{
 "cells": [
  {
   "cell_type": "code",
   "execution_count": 119,
   "id": "90bc8d6b",
   "metadata": {},
   "outputs": [
    {
     "data": {
      "text/plain": [
       "[{'rackTotCnt': '10',\n",
       "  'stationName': '3863. 동일로58길 입구',\n",
       "  'parkingBikeTotCnt': '17',\n",
       "  'shared': '170',\n",
       "  'stationLatitude': '37.55775452',\n",
       "  'stationLongitude': '127.07297516',\n",
       "  'stationId': 'ST-2543'}]"
      ]
     },
     "execution_count": 119,
     "metadata": {},
     "output_type": "execute_result"
    }
   ],
   "source": [
    "now = datetime.datetime.now()\n",
    "url = f\"http://openapi.seoul.go.kr:8088/{API_KEY}/json/bikeList/{2000}/{2000}/\"\n",
    "response = requests.get(url)\n",
    "data = json.loads(response.text)\n",
    "data.get('rentBikeStatus').get('row')"
   ]
  },
  {
   "cell_type": "code",
   "execution_count": 44,
   "id": "6e91f359",
   "metadata": {},
   "outputs": [],
   "source": [
    "# 필요 라이브러리 호출\n",
    "import dotenv\n",
    "import os\n",
    "import time\n",
    "import pandas as pd\n",
    "import matplotlib.pyplot as plt\n",
    "import requests\n",
    "import xml.etree.ElementTree as ET\n",
    "import warnings\n",
    "import datetime\n",
    "from bs4 import BeautifulSoup\n",
    "import json\n",
    "\n",
    "# 경고창 무시\n",
    "warnings.simplefilter(\"ignore\")\n",
    "\n",
    "dotenv.load_dotenv() # API 사용을 위한 인증키 로드\n",
    "API_KEY = os.getenv('BIKE_DATA')\n",
    "\n",
    "# 저장장소\n",
    "base_output = \"bike_rental_data.csv\"\n",
    "backup_folder = \"backups_bike\"\n",
    "\n",
    "# 백업 폴더 없으면 생성\n",
    "os.makedirs(backup_folder, exist_ok=True)\n",
    "\n",
    "def save_data(data_list):\n",
    "    df = pd.DataFrame(data_list)\n",
    "\n",
    "    # 기본 데이터에 append\n",
    "    if not os.path.exists(base_output):\n",
    "        df.to_csv(base_output, mode='w', index=False, encoding='utf-8-sig')\n",
    "    else:\n",
    "        df.to_csv(base_output, mode='a', index=False, encoding='utf-8-sig', header=False)\n",
    "\n",
    "    # 날짜별로 백업 파일 저장\n",
    "    timestamp = datetime.datetime.now().strftime('%Y%m%d_%H%M')\n",
    "    backup_file = os.path.join(backup_folder, f\"backup_{timestamp}.csv\")\n",
    "    df.to_csv(backup_file, index=False, encoding='utf-8-sig')\n",
    "    \n",
    "# 15분 간격으로 30일간 반복\n",
    "for i in range(3000):\n",
    "    data_lists = []\n",
    "\n",
    "    for s in range(1,10000,1000) :\n",
    "        try:\n",
    "            now = datetime.datetime.now()\n",
    "            url = f\"http://openapi.seoul.go.kr:8088/{API_KEY}/json/bikeList/{s}/{s+999}/\"\n",
    "            \n",
    "            response = requests.get(url, timeout=10)\n",
    "            data = json.loads(response.text)\n",
    "            data_list = []\n",
    "            for dt in data.get('rentBikeStatus').get('row') :\n",
    "                use = {'시간' : now.strftime('%y-%m-%d %H:%M'),\n",
    "                    '정류소번호': dt.get('stationName').split('.')[0],\n",
    "                    '정류소이름': dt.get('stationName').split('.')[1],\n",
    "                    '거치중인자전거': dt.get('parkingBikeTotCnt'),\n",
    "                    '거치대개수': dt.get('rackTotCnt'),\n",
    "                    }\n",
    "            data_list.append(use)\n",
    "\n",
    "        except Exception as e:\n",
    "            print(f\"[{s}] 수집 실패: {e}\")\n",
    "\n",
    "    data_lists.append(data_list)\n",
    "\n",
    "    print(f\"[{i+1}/8760] ✅ 저장 및 백업 완료: {datetime.datetime.now().strftime('%Y-%m-%d %H:%M:%S')}\")\n",
    "\n",
    "    # 15분 대기\n",
    "    time.sleep(450)\n",
    "    print('----명령 대기중----')\n",
    "    time.sleep(450)"
   ]
  }
 ],
 "metadata": {
  "kernelspec": {
   "display_name": "Python 3 (ipykernel)",
   "language": "python",
   "name": "python3"
  },
  "language_info": {
   "codemirror_mode": {
    "name": "ipython",
    "version": 3
   },
   "file_extension": ".py",
   "mimetype": "text/x-python",
   "name": "python",
   "nbconvert_exporter": "python",
   "pygments_lexer": "ipython3",
   "version": "3.10.9"
  },
  "toc": {
   "base_numbering": 1,
   "nav_menu": {},
   "number_sections": true,
   "sideBar": true,
   "skip_h1_title": false,
   "title_cell": "Table of Contents",
   "title_sidebar": "Contents",
   "toc_cell": false,
   "toc_position": {},
   "toc_section_display": true,
   "toc_window_display": false
  }
 },
 "nbformat": 4,
 "nbformat_minor": 5
}
