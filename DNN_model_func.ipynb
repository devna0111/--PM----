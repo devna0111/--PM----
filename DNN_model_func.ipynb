{
 "cells": [
  {
   "cell_type": "code",
   "execution_count": 5,
   "id": "c683a8fb",
   "metadata": {},
   "outputs": [
    {
     "data": {
      "text/plain": [
       "'2wQgqMaqTz6EIKjGqt8-QA'"
      ]
     },
     "execution_count": 5,
     "metadata": {},
     "output_type": "execute_result"
    }
   ],
   "source": []
  },
  {
   "cell_type": "code",
   "execution_count": 66,
   "id": "47efe649",
   "metadata": {},
   "outputs": [
    {
     "data": {
      "text/plain": [
       "114.0"
      ]
     },
     "execution_count": 66,
     "metadata": {},
     "output_type": "execute_result"
    }
   ],
   "source": [
    "bike_road = pd.read_csv('model_1/total_data.csv')\n",
    "bike_road[(bike_road['월']==12)&(bike_road['행정구']=='강남구')]['자전거전용도로km'].max()"
   ]
  },
  {
   "cell_type": "code",
   "execution_count": 85,
   "id": "dc7d583a",
   "metadata": {},
   "outputs": [],
   "source": [
    "def predict_demand(part='강남구',date='2025-06-21') :\n",
    "    # 필요 라이브러리 호출\n",
    "    from tensorflow.keras.models import load_model\n",
    "    import numpy as np\n",
    "    import dotenv\n",
    "    import os\n",
    "    import time\n",
    "    import datetime\n",
    "    import pandas as pd\n",
    "    import matplotlib.pyplot as plt\n",
    "    import requests\n",
    "    import xml.etree.ElementTree as ET\n",
    "    import requests\n",
    "    import warnings\n",
    "    from bs4 import BeautifulSoup\n",
    "    from sklearn.preprocessing import LabelEncoder, StandardScaler\n",
    "    \n",
    "    dotenv.load_dotenv()\n",
    "    API_KEY = os.getenv('weather')\n",
    "    API_KEY\n",
    "    \n",
    "    model = load_model('model_1/DNN_model_1.h5')\n",
    "    # 경고창 무시\n",
    "    warnings.simplefilter(\"ignore\")\n",
    "\n",
    "    dotenv.load_dotenv() # API 사용을 위한 인증키 로드\n",
    "    API_KEY = os.getenv('SEOUL_DATA')\n",
    "\n",
    "    # API를 통해 불러올 주요 장소의 이름과 카테고리 체크\n",
    "    inverse = pd.read_csv('data/역별행정구.csv')\n",
    "    spot = inverse[inverse['행정구']==part]['지역명'].iloc[0]\n",
    "    \n",
    "    date='2025-06-21'\n",
    "    date_list = date.split('-')\n",
    "    year = int(date_list[0]); month = int(date_list[1]); day =int(date_list[2])\n",
    "    weekday = datetime.date(int(date_list[0]),int(date_list[1]),int(date_list[2])).weekday()\n",
    "    is_weekend = 1 if weekday>=5 else 0\n",
    "    \n",
    "    bike_road = pd.read_csv('model_1/total_data.csv')\n",
    "    bike_road_len = bike_road[(bike_road['월']==12)&(bike_road['행정구']==part)]['자전거전용도로km'].max()\n",
    "    \n",
    "    df = pd.read_csv(\"model_1/total_data.csv\", parse_dates=[\"일시\"])\n",
    "    le_gu   = LabelEncoder()\n",
    "    df[\"gu_le\"] = le_gu.fit_transform(df[\"행정구\"])\n",
    "    df[\"month\"]      = df[\"일시\"].dt.month\n",
    "    df[\"weekday\"]    = df[\"일시\"].dt.weekday\n",
    "    df[\"is_weekend\"] = (df[\"weekday\"]>=5).astype(int)\n",
    "    bins   = [0, 1500, 3000, 4500, 6000,7500,9000, np.inf]\n",
    "    labels = [\"0–1499\", \"1500–2999\",\"3000–4499\", \"4500–5999\", \"6000–7499\", \"7500-8999\",\"9000+\"]\n",
    "\n",
    "    df[\"y_bin\"] = pd.cut(df[\"총대여량\"], bins=bins, labels=labels, right=False)\n",
    "    df.dropna(subset=[\"y_bin\"], inplace=True)\n",
    "    \n",
    "    le_y = LabelEncoder()\n",
    "    df[\"y_label\"] = le_y.fit(df[\"y_bin\"])\n",
    "    n_classes = df[\"y_label\"].nunique()\n",
    "    \n",
    "    FEATURE_WEATHER = [\"평균기온(°C)\",\"일강수량(mm)\",\"평균 풍속(m/s)\",\"평균 상대습도(%)\"]\n",
    "    FEATURES = [\"gu_le\",\"month\",\"weekday\",\"is_weekend\",'총생활인구수','자전거전용도로km'] + FEATURE_WEATHER\n",
    "    \n",
    "    train_df = df[df[\"일시\"].dt.year != 2024]\n",
    "    X_tr = train_df[FEATURES].values\n",
    "\n",
    "    scaler = StandardScaler().fit(X_tr)\n",
    "    try:\n",
    "        url = f\"http://openapi.seoul.go.kr:8088/{API_KEY}/xml/citydata/1/5/{spot}\"\n",
    "        response = requests.get(url, timeout=10)\n",
    "        soup = BeautifulSoup(response.text, features='html.parser')\n",
    "\n",
    "        data = {\n",
    "            '유동인구': soup.select_one(\"AREA_PPLTN_MAX\").text,\n",
    "            '습도': soup.select_one(\"HUMIDITY\").text,\n",
    "            '기온': soup.select_one(\"TEMP\").text,\n",
    "            '장소이름': spot,\n",
    "            '강수량' : soup.select_one(\"PRECIPITATION\").text,\n",
    "            '풍속' : soup.select_one(\"WIND_SPD\").text,\n",
    "        }\n",
    "\n",
    "    except Exception as e:\n",
    "        print(f\"[{spot}] 수집 실패: {e}\")\n",
    "        model = load_model('model_1/DNN_model_1.h5')\n",
    "        \n",
    "    sample = pd.DataFrame([{\n",
    "            \"gu_le\":        le_gu.transform([part])[0],\n",
    "            \"month\":        month,\n",
    "            \"weekday\":      weekday,\n",
    "            \"is_weekend\":   is_weekend,\n",
    "            \"평균기온(°C)\":  data.get('기온',15),\n",
    "            \"일강수량(mm)\":  data.get('강수량',15) if isinstance(data.get('강수량',15),float) else 0,\n",
    "            \"평균 풍속(m/s)\": data.get('풍속',2),\n",
    "            \"평균 상대습도(%)\":data.get('습도',50),\n",
    "            '총생활인구수' : data.get('유동인구',25000)*12,\n",
    "            '자전거전용도로km' : bike_road_len \n",
    "        }])\n",
    "    X_samp = scaler.transform(sample[FEATURES].values.reshape(1,-1))\n",
    "\n",
    "        # DNN 예측\n",
    "    bin_idx_dnn = model.predict(X_samp).argmax(axis=1)[0]\n",
    "    print(\"▶ DNN 예측 구간:\", le_y.inverse_transform([bin_idx_dnn])[0])\n",
    "    return(le_y.inverse_transform([bin_idx_dnn])[0])"
   ]
  },
  {
   "cell_type": "code",
   "execution_count": 86,
   "id": "ccaeeb1c",
   "metadata": {},
   "outputs": [
    {
     "ename": "ParserError",
     "evalue": "Error tokenizing data. C error: out of memory",
     "output_type": "error",
     "traceback": [
      "\u001b[1;31m---------------------------------------------------------------------------\u001b[0m",
      "\u001b[1;31mParserError\u001b[0m                               Traceback (most recent call last)",
      "Cell \u001b[1;32mIn[86], line 1\u001b[0m\n\u001b[1;32m----> 1\u001b[0m \u001b[43mpredict_demand\u001b[49m\u001b[43m(\u001b[49m\u001b[38;5;124;43m'\u001b[39;49m\u001b[38;5;124;43m강남구\u001b[39;49m\u001b[38;5;124;43m'\u001b[39;49m\u001b[43m,\u001b[49m\u001b[38;5;124;43m'\u001b[39;49m\u001b[38;5;124;43m2025-06-22\u001b[39;49m\u001b[38;5;124;43m'\u001b[39;49m\u001b[43m)\u001b[49m\n",
      "Cell \u001b[1;32mIn[85], line 36\u001b[0m, in \u001b[0;36mpredict_demand\u001b[1;34m(part, date)\u001b[0m\n\u001b[0;32m     33\u001b[0m bike_road \u001b[38;5;241m=\u001b[39m pd\u001b[38;5;241m.\u001b[39mread_csv(\u001b[38;5;124m'\u001b[39m\u001b[38;5;124mmodel_1/total_data.csv\u001b[39m\u001b[38;5;124m'\u001b[39m)\n\u001b[0;32m     34\u001b[0m bike_road_len \u001b[38;5;241m=\u001b[39m bike_road[(bike_road[\u001b[38;5;124m'\u001b[39m\u001b[38;5;124m월\u001b[39m\u001b[38;5;124m'\u001b[39m]\u001b[38;5;241m==\u001b[39m\u001b[38;5;241m12\u001b[39m)\u001b[38;5;241m&\u001b[39m(bike_road[\u001b[38;5;124m'\u001b[39m\u001b[38;5;124m행정구\u001b[39m\u001b[38;5;124m'\u001b[39m]\u001b[38;5;241m==\u001b[39mpart)][\u001b[38;5;124m'\u001b[39m\u001b[38;5;124m자전거전용도로km\u001b[39m\u001b[38;5;124m'\u001b[39m]\u001b[38;5;241m.\u001b[39mmax()\n\u001b[1;32m---> 36\u001b[0m df \u001b[38;5;241m=\u001b[39m \u001b[43mpd\u001b[49m\u001b[38;5;241;43m.\u001b[39;49m\u001b[43mread_csv\u001b[49m\u001b[43m(\u001b[49m\u001b[38;5;124;43m\"\u001b[39;49m\u001b[38;5;124;43mmodel_1/total_data.csv\u001b[39;49m\u001b[38;5;124;43m\"\u001b[39;49m\u001b[43m,\u001b[49m\u001b[43m \u001b[49m\u001b[43mparse_dates\u001b[49m\u001b[38;5;241;43m=\u001b[39;49m\u001b[43m[\u001b[49m\u001b[38;5;124;43m\"\u001b[39;49m\u001b[38;5;124;43m일시\u001b[39;49m\u001b[38;5;124;43m\"\u001b[39;49m\u001b[43m]\u001b[49m\u001b[43m)\u001b[49m\n\u001b[0;32m     37\u001b[0m le_gu   \u001b[38;5;241m=\u001b[39m LabelEncoder()\n\u001b[0;32m     38\u001b[0m df[\u001b[38;5;124m\"\u001b[39m\u001b[38;5;124mgu_le\u001b[39m\u001b[38;5;124m\"\u001b[39m] \u001b[38;5;241m=\u001b[39m le_gu\u001b[38;5;241m.\u001b[39mfit_transform(df[\u001b[38;5;124m\"\u001b[39m\u001b[38;5;124m행정구\u001b[39m\u001b[38;5;124m\"\u001b[39m])\n",
      "File \u001b[1;32m~\\.conda\\envs\\ml-dl-nlp\\lib\\site-packages\\pandas\\util\\_decorators.py:211\u001b[0m, in \u001b[0;36mdeprecate_kwarg.<locals>._deprecate_kwarg.<locals>.wrapper\u001b[1;34m(*args, **kwargs)\u001b[0m\n\u001b[0;32m    209\u001b[0m     \u001b[38;5;28;01melse\u001b[39;00m:\n\u001b[0;32m    210\u001b[0m         kwargs[new_arg_name] \u001b[38;5;241m=\u001b[39m new_arg_value\n\u001b[1;32m--> 211\u001b[0m \u001b[38;5;28;01mreturn\u001b[39;00m func(\u001b[38;5;241m*\u001b[39margs, \u001b[38;5;241m*\u001b[39m\u001b[38;5;241m*\u001b[39mkwargs)\n",
      "File \u001b[1;32m~\\.conda\\envs\\ml-dl-nlp\\lib\\site-packages\\pandas\\util\\_decorators.py:331\u001b[0m, in \u001b[0;36mdeprecate_nonkeyword_arguments.<locals>.decorate.<locals>.wrapper\u001b[1;34m(*args, **kwargs)\u001b[0m\n\u001b[0;32m    325\u001b[0m \u001b[38;5;28;01mif\u001b[39;00m \u001b[38;5;28mlen\u001b[39m(args) \u001b[38;5;241m>\u001b[39m num_allow_args:\n\u001b[0;32m    326\u001b[0m     warnings\u001b[38;5;241m.\u001b[39mwarn(\n\u001b[0;32m    327\u001b[0m         msg\u001b[38;5;241m.\u001b[39mformat(arguments\u001b[38;5;241m=\u001b[39m_format_argument_list(allow_args)),\n\u001b[0;32m    328\u001b[0m         \u001b[38;5;167;01mFutureWarning\u001b[39;00m,\n\u001b[0;32m    329\u001b[0m         stacklevel\u001b[38;5;241m=\u001b[39mfind_stack_level(),\n\u001b[0;32m    330\u001b[0m     )\n\u001b[1;32m--> 331\u001b[0m \u001b[38;5;28;01mreturn\u001b[39;00m func(\u001b[38;5;241m*\u001b[39margs, \u001b[38;5;241m*\u001b[39m\u001b[38;5;241m*\u001b[39mkwargs)\n",
      "File \u001b[1;32m~\\.conda\\envs\\ml-dl-nlp\\lib\\site-packages\\pandas\\io\\parsers\\readers.py:950\u001b[0m, in \u001b[0;36mread_csv\u001b[1;34m(filepath_or_buffer, sep, delimiter, header, names, index_col, usecols, squeeze, prefix, mangle_dupe_cols, dtype, engine, converters, true_values, false_values, skipinitialspace, skiprows, skipfooter, nrows, na_values, keep_default_na, na_filter, verbose, skip_blank_lines, parse_dates, infer_datetime_format, keep_date_col, date_parser, dayfirst, cache_dates, iterator, chunksize, compression, thousands, decimal, lineterminator, quotechar, quoting, doublequote, escapechar, comment, encoding, encoding_errors, dialect, error_bad_lines, warn_bad_lines, on_bad_lines, delim_whitespace, low_memory, memory_map, float_precision, storage_options)\u001b[0m\n\u001b[0;32m    935\u001b[0m kwds_defaults \u001b[38;5;241m=\u001b[39m _refine_defaults_read(\n\u001b[0;32m    936\u001b[0m     dialect,\n\u001b[0;32m    937\u001b[0m     delimiter,\n\u001b[1;32m   (...)\u001b[0m\n\u001b[0;32m    946\u001b[0m     defaults\u001b[38;5;241m=\u001b[39m{\u001b[38;5;124m\"\u001b[39m\u001b[38;5;124mdelimiter\u001b[39m\u001b[38;5;124m\"\u001b[39m: \u001b[38;5;124m\"\u001b[39m\u001b[38;5;124m,\u001b[39m\u001b[38;5;124m\"\u001b[39m},\n\u001b[0;32m    947\u001b[0m )\n\u001b[0;32m    948\u001b[0m kwds\u001b[38;5;241m.\u001b[39mupdate(kwds_defaults)\n\u001b[1;32m--> 950\u001b[0m \u001b[38;5;28;01mreturn\u001b[39;00m \u001b[43m_read\u001b[49m\u001b[43m(\u001b[49m\u001b[43mfilepath_or_buffer\u001b[49m\u001b[43m,\u001b[49m\u001b[43m \u001b[49m\u001b[43mkwds\u001b[49m\u001b[43m)\u001b[49m\n",
      "File \u001b[1;32m~\\.conda\\envs\\ml-dl-nlp\\lib\\site-packages\\pandas\\io\\parsers\\readers.py:611\u001b[0m, in \u001b[0;36m_read\u001b[1;34m(filepath_or_buffer, kwds)\u001b[0m\n\u001b[0;32m    608\u001b[0m     \u001b[38;5;28;01mreturn\u001b[39;00m parser\n\u001b[0;32m    610\u001b[0m \u001b[38;5;28;01mwith\u001b[39;00m parser:\n\u001b[1;32m--> 611\u001b[0m     \u001b[38;5;28;01mreturn\u001b[39;00m \u001b[43mparser\u001b[49m\u001b[38;5;241;43m.\u001b[39;49m\u001b[43mread\u001b[49m\u001b[43m(\u001b[49m\u001b[43mnrows\u001b[49m\u001b[43m)\u001b[49m\n",
      "File \u001b[1;32m~\\.conda\\envs\\ml-dl-nlp\\lib\\site-packages\\pandas\\io\\parsers\\readers.py:1778\u001b[0m, in \u001b[0;36mTextFileReader.read\u001b[1;34m(self, nrows)\u001b[0m\n\u001b[0;32m   1771\u001b[0m nrows \u001b[38;5;241m=\u001b[39m validate_integer(\u001b[38;5;124m\"\u001b[39m\u001b[38;5;124mnrows\u001b[39m\u001b[38;5;124m\"\u001b[39m, nrows)\n\u001b[0;32m   1772\u001b[0m \u001b[38;5;28;01mtry\u001b[39;00m:\n\u001b[0;32m   1773\u001b[0m     \u001b[38;5;66;03m# error: \"ParserBase\" has no attribute \"read\"\u001b[39;00m\n\u001b[0;32m   1774\u001b[0m     (\n\u001b[0;32m   1775\u001b[0m         index,\n\u001b[0;32m   1776\u001b[0m         columns,\n\u001b[0;32m   1777\u001b[0m         col_dict,\n\u001b[1;32m-> 1778\u001b[0m     ) \u001b[38;5;241m=\u001b[39m \u001b[38;5;28;43mself\u001b[39;49m\u001b[38;5;241;43m.\u001b[39;49m\u001b[43m_engine\u001b[49m\u001b[38;5;241;43m.\u001b[39;49m\u001b[43mread\u001b[49m\u001b[43m(\u001b[49m\u001b[43m  \u001b[49m\u001b[38;5;66;43;03m# type: ignore[attr-defined]\u001b[39;49;00m\n\u001b[0;32m   1779\u001b[0m \u001b[43m        \u001b[49m\u001b[43mnrows\u001b[49m\n\u001b[0;32m   1780\u001b[0m \u001b[43m    \u001b[49m\u001b[43m)\u001b[49m\n\u001b[0;32m   1781\u001b[0m \u001b[38;5;28;01mexcept\u001b[39;00m \u001b[38;5;167;01mException\u001b[39;00m:\n\u001b[0;32m   1782\u001b[0m     \u001b[38;5;28mself\u001b[39m\u001b[38;5;241m.\u001b[39mclose()\n",
      "File \u001b[1;32m~\\.conda\\envs\\ml-dl-nlp\\lib\\site-packages\\pandas\\io\\parsers\\c_parser_wrapper.py:230\u001b[0m, in \u001b[0;36mCParserWrapper.read\u001b[1;34m(self, nrows)\u001b[0m\n\u001b[0;32m    228\u001b[0m \u001b[38;5;28;01mtry\u001b[39;00m:\n\u001b[0;32m    229\u001b[0m     \u001b[38;5;28;01mif\u001b[39;00m \u001b[38;5;28mself\u001b[39m\u001b[38;5;241m.\u001b[39mlow_memory:\n\u001b[1;32m--> 230\u001b[0m         chunks \u001b[38;5;241m=\u001b[39m \u001b[38;5;28;43mself\u001b[39;49m\u001b[38;5;241;43m.\u001b[39;49m\u001b[43m_reader\u001b[49m\u001b[38;5;241;43m.\u001b[39;49m\u001b[43mread_low_memory\u001b[49m\u001b[43m(\u001b[49m\u001b[43mnrows\u001b[49m\u001b[43m)\u001b[49m\n\u001b[0;32m    231\u001b[0m         \u001b[38;5;66;03m# destructive to chunks\u001b[39;00m\n\u001b[0;32m    232\u001b[0m         data \u001b[38;5;241m=\u001b[39m _concatenate_chunks(chunks)\n",
      "File \u001b[1;32m~\\.conda\\envs\\ml-dl-nlp\\lib\\site-packages\\pandas\\_libs\\parsers.pyx:808\u001b[0m, in \u001b[0;36mpandas._libs.parsers.TextReader.read_low_memory\u001b[1;34m()\u001b[0m\n",
      "File \u001b[1;32m~\\.conda\\envs\\ml-dl-nlp\\lib\\site-packages\\pandas\\_libs\\parsers.pyx:866\u001b[0m, in \u001b[0;36mpandas._libs.parsers.TextReader._read_rows\u001b[1;34m()\u001b[0m\n",
      "File \u001b[1;32m~\\.conda\\envs\\ml-dl-nlp\\lib\\site-packages\\pandas\\_libs\\parsers.pyx:852\u001b[0m, in \u001b[0;36mpandas._libs.parsers.TextReader._tokenize_rows\u001b[1;34m()\u001b[0m\n",
      "File \u001b[1;32m~\\.conda\\envs\\ml-dl-nlp\\lib\\site-packages\\pandas\\_libs\\parsers.pyx:1973\u001b[0m, in \u001b[0;36mpandas._libs.parsers.raise_parser_error\u001b[1;34m()\u001b[0m\n",
      "\u001b[1;31mParserError\u001b[0m: Error tokenizing data. C error: out of memory"
     ]
    }
   ],
   "source": [
    "predict_demand('강남구','2025-06-22')"
   ]
  },
  {
   "cell_type": "code",
   "execution_count": null,
   "id": "7fad64a2",
   "metadata": {},
   "outputs": [],
   "source": []
  }
 ],
 "metadata": {
  "kernelspec": {
   "display_name": "ml-dl-nlp",
   "language": "python",
   "name": "ml-dl-nlp"
  },
  "language_info": {
   "codemirror_mode": {
    "name": "ipython",
    "version": 3
   },
   "file_extension": ".py",
   "mimetype": "text/x-python",
   "name": "python",
   "nbconvert_exporter": "python",
   "pygments_lexer": "ipython3",
   "version": "3.9.23"
  },
  "toc": {
   "base_numbering": 1,
   "nav_menu": {},
   "number_sections": true,
   "sideBar": true,
   "skip_h1_title": false,
   "title_cell": "Table of Contents",
   "title_sidebar": "Contents",
   "toc_cell": false,
   "toc_position": {},
   "toc_section_display": true,
   "toc_window_display": false
  }
 },
 "nbformat": 4,
 "nbformat_minor": 5
}
