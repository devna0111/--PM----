{
 "cells": [
  {
   "cell_type": "code",
   "execution_count": 16,
   "id": "4a2d5531",
   "metadata": {},
   "outputs": [
    {
     "data": {
      "text/html": [
       "\n",
       "<style>\n",
       "div.container{width:86% !important;}\n",
       "div.cell.code_cell.rendered{width:100%;}\n",
       "div.CodeMirror {font-family:Consolas; font-size:12pt;}\n",
       "div.output {font-size:15pt; font-weight:bold;}\n",
       "div.input {font-family:Consolas; font-size:12pt;}\n",
       "div.prompt {min-width:70px;}\n",
       "div#toc-wrapper{padding-top:120px;}\n",
       "div.text_cell_render ul li{font-size:12pt;padding:5px;}\n",
       "table.dataframe{font-size:15px;}\n",
       "</style>\n"
      ],
      "text/plain": [
       "<IPython.core.display.HTML object>"
      ]
     },
     "metadata": {},
     "output_type": "display_data"
    }
   ],
   "source": [
    "from IPython.display import display, HTML\n",
    "display(HTML(\"\"\"\n",
    "<style>\n",
    "div.container{width:86% !important;}\n",
    "div.cell.code_cell.rendered{width:100%;}\n",
    "div.CodeMirror {font-family:Consolas; font-size:12pt;}\n",
    "div.output {font-size:15pt; font-weight:bold;}\n",
    "div.input {font-family:Consolas; font-size:12pt;}\n",
    "div.prompt {min-width:70px;}\n",
    "div#toc-wrapper{padding-top:120px;}\n",
    "div.text_cell_render ul li{font-size:12pt;padding:5px;}\n",
    "table.dataframe{font-size:15px;}\n",
    "</style>\n",
    "\"\"\"))"
   ]
  },
  {
   "cell_type": "code",
   "execution_count": 18,
   "id": "7a4c2f99",
   "metadata": {},
   "outputs": [
    {
     "name": "stdout",
     "output_type": "stream",
     "text": [
      "Training until validation scores don't improve for 50 rounds\n",
      "[100]\tvalid_0's multi_logloss: 0.891787\n",
      "[200]\tvalid_0's multi_logloss: 0.844936\n",
      "[300]\tvalid_0's multi_logloss: 0.839155\n",
      "Early stopping, best iteration is:\n",
      "[267]\tvalid_0's multi_logloss: 0.837633\n",
      "Accuracy: 0.6463561643835617\n",
      "F1-macro: 0.6263009455122465\n",
      "Confusion Matrix:\n",
      " [[ 776  311   17    1    0    0    0]\n",
      " [ 275 1616  471   47    4    2    0]\n",
      " [  10  430 1366  361   32    5    3]\n",
      " [   1   52  186  605  227   21   15]\n",
      " [   0    8   26  189  349  129   34]\n",
      " [   0    0   11   23  103  249  109]\n",
      " [   0    2    4    2   29   87  937]]\n",
      "▶ 강남구 2025-06-22 예측 구간: 3000–4499\n"
     ]
    }
   ],
   "source": [
    "import pandas as pd\n",
    "import numpy as np\n",
    "import lightgbm as lgb\n",
    "\n",
    "from sklearn.preprocessing import LabelEncoder\n",
    "from sklearn.metrics import accuracy_score, f1_score, confusion_matrix\n",
    "\n",
    "# 1) 데이터 로드\n",
    "df = pd.read_csv(\"model_1/total_data.csv\", parse_dates=[\"일시\"])\n",
    "\n",
    "# 2) 사용자 정의 구간 및 라벨\n",
    "bins   = [0, 1500, 3000, 4500, 6000, 7500, 9000, np.inf]\n",
    "labels = [\"0–1499\", \"1500–2999\", \"3000–4499\", \"4500–5999\", \n",
    "          \"6000–7499\", \"7500–8999\", \"9000+\"]\n",
    "\n",
    "# 3) y_bin 생성\n",
    "df[\"y_bin\"] = pd.cut(df[\"총대여량\"], bins=bins, labels=labels, right=False)\n",
    "\n",
    "# 4) 필요 피처 생성\n",
    "df[\"month\"]      = df[\"일시\"].dt.month\n",
    "df[\"weekday\"]    = df[\"일시\"].dt.weekday\n",
    "df[\"is_weekend\"] = (df[\"weekday\"] >= 5).astype(int)\n",
    "\n",
    "le_gu = LabelEncoder()\n",
    "df[\"gu_le\"] = le_gu.fit_transform(df[\"행정구\"])\n",
    "\n",
    "FEATURES = [\n",
    "    \"gu_le\", \"month\", \"weekday\", \"is_weekend\",\n",
    "    \"평균기온(°C)\", \"일강수량(mm)\", \"평균 풍속(m/s)\", \"평균 상대습도(%)\"\n",
    "]\n",
    "\n",
    "# 5) 결측 제거 및 라벨 인코딩\n",
    "df = df.dropna(subset=FEATURES + [\"y_bin\"])\n",
    "df[\"y_label\"] = LabelEncoder().fit_transform(df[\"y_bin\"])\n",
    "\n",
    "# 6) 시간 기준 train/valid 분리\n",
    "cut = pd.to_datetime(\"2024-01-01\")\n",
    "train = df[df[\"일시\"] < cut]\n",
    "valid = df[df[\"일시\"] >= cut]\n",
    "\n",
    "X_tr = train[FEATURES]; y_tr = train[\"y_label\"]\n",
    "X_va = valid[FEATURES]; y_va = valid[\"y_label\"]\n",
    "\n",
    "# 7) 모델 학습\n",
    "model = lgb.LGBMClassifier(\n",
    "    objective=\"multiclass\",\n",
    "    num_class=len(labels),\n",
    "    learning_rate=0.05,\n",
    "    num_leaves=31,\n",
    "    n_estimators=500,\n",
    "    subsample=0.8,\n",
    "    colsample_bytree=0.8,\n",
    "    random_state=42\n",
    ")\n",
    "model.fit(\n",
    "    X_tr, y_tr,\n",
    "    eval_set=[(X_va, y_va)],\n",
    "    eval_metric=\"multi_logloss\",\n",
    "    callbacks=[lgb.early_stopping(50), lgb.log_evaluation(100)]\n",
    ")\n",
    "\n",
    "# 8) 모델 평가\n",
    "y_pred = model.predict(X_va)\n",
    "print(\"Accuracy:\", accuracy_score(y_va, y_pred))\n",
    "print(\"F1-macro:\", f1_score(y_va, y_pred, average=\"macro\"))\n",
    "print(\"Confusion Matrix:\\n\", confusion_matrix(y_va, y_pred))\n",
    "\n",
    "# 9) 예측 예시\n",
    "sample = pd.DataFrame([{\n",
    "    \"gu_le\":        le_gu.transform([\"강남구\"])[0],\n",
    "    \"month\":        6,\n",
    "    \"weekday\":      6,\n",
    "    \"is_weekend\":   1,\n",
    "    \"평균기온(°C)\":   25.0,\n",
    "    \"일강수량(mm)\":   16.5,\n",
    "    \"평균 풍속(m/s)\": 1.2,\n",
    "    \"평균 상대습도(%)\": 60.0\n",
    "}])\n",
    "pred_bin = labels[model.predict(sample)[0]]\n",
    "print(\"▶ 강남구 2025-06-22 예측 구간:\", pred_bin)\n"
   ]
  },
  {
   "cell_type": "code",
   "execution_count": null,
   "id": "1daad481",
   "metadata": {},
   "outputs": [],
   "source": []
  }
 ],
 "metadata": {
  "kernelspec": {
   "display_name": "ml-dl-nlp",
   "language": "python",
   "name": "ml-dl-nlp"
  },
  "language_info": {
   "codemirror_mode": {
    "name": "ipython",
    "version": 3
   },
   "file_extension": ".py",
   "mimetype": "text/x-python",
   "name": "python",
   "nbconvert_exporter": "python",
   "pygments_lexer": "ipython3",
   "version": "3.9.23"
  },
  "toc": {
   "base_numbering": 1,
   "nav_menu": {},
   "number_sections": true,
   "sideBar": true,
   "skip_h1_title": false,
   "title_cell": "Table of Contents",
   "title_sidebar": "Contents",
   "toc_cell": false,
   "toc_position": {},
   "toc_section_display": true,
   "toc_window_display": false
  }
 },
 "nbformat": 4,
 "nbformat_minor": 5
}
