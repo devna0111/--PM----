{
 "cells": [
  {
   "cell_type": "code",
   "execution_count": 72,
   "id": "fc8fa889",
   "metadata": {},
   "outputs": [
    {
     "data": {
      "text/html": [
       "\n",
       "<style>\n",
       "div.container{width:86% !important;}\n",
       "div.cell.code_cell.rendered{width:100%;}\n",
       "div.CodeMirror {font-family:Consolas; font-size:12pt;}\n",
       "div.output {font-size:15pt; font-weight:bold;}\n",
       "div.input {font-family:Consolas; font-size:12pt;}\n",
       "div.prompt {min-width:70px;}\n",
       "div#toc-wrapper{padding-top:120px;}\n",
       "div.text_cell_render ul li{font-size:12pt;padding:5px;}\n",
       "table.dataframe{font-size:15px;}\n",
       "</style>\n"
      ],
      "text/plain": [
       "<IPython.core.display.HTML object>"
      ]
     },
     "metadata": {},
     "output_type": "display_data"
    }
   ],
   "source": [
    "from IPython.display import display, HTML\n",
    "display(HTML(\"\"\"\n",
    "<style>\n",
    "div.container{width:86% !important;}\n",
    "div.cell.code_cell.rendered{width:100%;}\n",
    "div.CodeMirror {font-family:Consolas; font-size:12pt;}\n",
    "div.output {font-size:15pt; font-weight:bold;}\n",
    "div.input {font-family:Consolas; font-size:12pt;}\n",
    "div.prompt {min-width:70px;}\n",
    "div#toc-wrapper{padding-top:120px;}\n",
    "div.text_cell_render ul li{font-size:12pt;padding:5px;}\n",
    "table.dataframe{font-size:15px;}\n",
    "</style>\n",
    "\"\"\"))"
   ]
  },
  {
   "cell_type": "markdown",
   "id": "e4eb6b67",
   "metadata": {},
   "source": [
    "# 1. 필요 데이터 로드"
   ]
  },
  {
   "cell_type": "code",
   "execution_count": 73,
   "id": "cb43d4d1",
   "metadata": {},
   "outputs": [],
   "source": [
    "# 필요 라이브러리\n",
    "import pandas as pd"
   ]
  },
  {
   "cell_type": "markdown",
   "id": "04b8b6a3",
   "metadata": {},
   "source": [
    "# 2. 2022년 데이터"
   ]
  },
  {
   "cell_type": "code",
   "execution_count": 10,
   "id": "85e6a0d9",
   "metadata": {
    "collapsed": true
   },
   "outputs": [
    {
     "name": "stdout",
     "output_type": "stream",
     "text": [
      "<class 'pandas.core.frame.DataFrame'>\n",
      "RangeIndex: 9125 entries, 0 to 9124\n",
      "Data columns (total 11 columns):\n",
      " #   Column      Non-Null Count  Dtype  \n",
      "---  ------      --------------  -----  \n",
      " 0   일시          9125 non-null   object \n",
      " 1   평균기온(°C)    9125 non-null   float64\n",
      " 2   일강수량(mm)    9125 non-null   float64\n",
      " 3   평균 풍속(m/s)  9125 non-null   float64\n",
      " 4   평균 상대습도(%)  9125 non-null   float64\n",
      " 5   행정구         9125 non-null   object \n",
      " 6   연           9125 non-null   int64  \n",
      " 7   월           9125 non-null   int64  \n",
      " 8   일           9125 non-null   int64  \n",
      " 9   요일          9125 non-null   int64  \n",
      " 10  평일1주말0      9125 non-null   int64  \n",
      "dtypes: float64(4), int64(5), object(2)\n",
      "memory usage: 784.3+ KB\n"
     ]
    }
   ],
   "source": [
    "# 기상데이터\n",
    "data_w = pd.read_csv('model_1/2022_행정구별기상.csv')\n",
    "data_w.info()"
   ]
  },
  {
   "cell_type": "code",
   "execution_count": 9,
   "id": "b2596bfe",
   "metadata": {
    "collapsed": true
   },
   "outputs": [
    {
     "name": "stdout",
     "output_type": "stream",
     "text": [
      "<class 'pandas.core.frame.DataFrame'>\n",
      "RangeIndex: 9125 entries, 0 to 9124\n",
      "Data columns (total 21 columns):\n",
      " #   Column     Non-Null Count  Dtype  \n",
      "---  ------     --------------  -----  \n",
      " 0   행정구        9125 non-null   object \n",
      " 1   월          9125 non-null   int64  \n",
      " 2   일          9125 non-null   int64  \n",
      " 3   count      9125 non-null   int64  \n",
      " 4   총생활인구수     9125 non-null   float64\n",
      " 5   남자어린이      9125 non-null   float64\n",
      " 6   10대남자      9125 non-null   float64\n",
      " 7   20대남자      9125 non-null   float64\n",
      " 8   30대남자      9125 non-null   float64\n",
      " 9   40대남자      9125 non-null   float64\n",
      " 10  50대남자      9125 non-null   float64\n",
      " 11  60대남자      9125 non-null   float64\n",
      " 12  70대_이상_남자  9125 non-null   float64\n",
      " 13  여자어린이      9125 non-null   float64\n",
      " 14  10대여자      9125 non-null   float64\n",
      " 15  20대여자      9125 non-null   float64\n",
      " 16  30대여자      9125 non-null   float64\n",
      " 17  40대여자      9125 non-null   float64\n",
      " 18  50대여자      9125 non-null   float64\n",
      " 19  60대여자      9125 non-null   float64\n",
      " 20  70대_이상_여자  9125 non-null   float64\n",
      "dtypes: float64(17), int64(3), object(1)\n",
      "memory usage: 1.5+ MB\n"
     ]
    }
   ],
   "source": [
    "# 대여량 체크 데이터\n",
    "data_2022 = pd.read_csv('model_1/날짜붙이면2022년데이터완성.csv')\n",
    "data_2022.info()"
   ]
  },
  {
   "cell_type": "code",
   "execution_count": 11,
   "id": "3396d264",
   "metadata": {
    "collapsed": true
   },
   "outputs": [
    {
     "name": "stdout",
     "output_type": "stream",
     "text": [
      "<class 'pandas.core.frame.DataFrame'>\n",
      "Int64Index: 9125 entries, 0 to 9124\n",
      "Data columns (total 29 columns):\n",
      " #   Column      Non-Null Count  Dtype  \n",
      "---  ------      --------------  -----  \n",
      " 0   행정구         9125 non-null   object \n",
      " 1   월           9125 non-null   int64  \n",
      " 2   일           9125 non-null   int64  \n",
      " 3   count       9125 non-null   int64  \n",
      " 4   총생활인구수      9125 non-null   float64\n",
      " 5   남자어린이       9125 non-null   float64\n",
      " 6   10대남자       9125 non-null   float64\n",
      " 7   20대남자       9125 non-null   float64\n",
      " 8   30대남자       9125 non-null   float64\n",
      " 9   40대남자       9125 non-null   float64\n",
      " 10  50대남자       9125 non-null   float64\n",
      " 11  60대남자       9125 non-null   float64\n",
      " 12  70대_이상_남자   9125 non-null   float64\n",
      " 13  여자어린이       9125 non-null   float64\n",
      " 14  10대여자       9125 non-null   float64\n",
      " 15  20대여자       9125 non-null   float64\n",
      " 16  30대여자       9125 non-null   float64\n",
      " 17  40대여자       9125 non-null   float64\n",
      " 18  50대여자       9125 non-null   float64\n",
      " 19  60대여자       9125 non-null   float64\n",
      " 20  70대_이상_여자   9125 non-null   float64\n",
      " 21  일시          9125 non-null   object \n",
      " 22  평균기온(°C)    9125 non-null   float64\n",
      " 23  일강수량(mm)    9125 non-null   float64\n",
      " 24  평균 풍속(m/s)  9125 non-null   float64\n",
      " 25  평균 상대습도(%)  9125 non-null   float64\n",
      " 26  연           9125 non-null   int64  \n",
      " 27  요일          9125 non-null   int64  \n",
      " 28  평일1주말0      9125 non-null   int64  \n",
      "dtypes: float64(21), int64(6), object(2)\n",
      "memory usage: 2.1+ MB\n"
     ]
    }
   ],
   "source": [
    "data_2022_final = data_2022.merge(data_w, on=['월','일','행정구'])\n",
    "data_2022_final.info()"
   ]
  },
  {
   "cell_type": "code",
   "execution_count": 12,
   "id": "74e6e616",
   "metadata": {},
   "outputs": [
    {
     "data": {
      "text/plain": [
       "Index(['행정구', '월', '일', 'count', '총생활인구수', '남자어린이', '10대남자', '20대남자', '30대남자',\n",
       "       '40대남자', '50대남자', '60대남자', '70대_이상_남자', '여자어린이', '10대여자', '20대여자',\n",
       "       '30대여자', '40대여자', '50대여자', '60대여자', '70대_이상_여자', '일시', '평균기온(°C)',\n",
       "       '일강수량(mm)', '평균 풍속(m/s)', '평균 상대습도(%)', '연', '요일', '평일1주말0'],\n",
       "      dtype='object')"
      ]
     },
     "execution_count": 12,
     "metadata": {},
     "output_type": "execute_result"
    }
   ],
   "source": [
    "data_2022_final.columns"
   ]
  },
  {
   "cell_type": "code",
   "execution_count": 13,
   "id": "e47c7225",
   "metadata": {},
   "outputs": [
    {
     "data": {
      "text/html": [
       "<div>\n",
       "<style scoped>\n",
       "    .dataframe tbody tr th:only-of-type {\n",
       "        vertical-align: middle;\n",
       "    }\n",
       "\n",
       "    .dataframe tbody tr th {\n",
       "        vertical-align: top;\n",
       "    }\n",
       "\n",
       "    .dataframe thead th {\n",
       "        text-align: right;\n",
       "    }\n",
       "</style>\n",
       "<table border=\"1\" class=\"dataframe\">\n",
       "  <thead>\n",
       "    <tr style=\"text-align: right;\">\n",
       "      <th></th>\n",
       "      <th>행정구</th>\n",
       "      <th>월</th>\n",
       "      <th>일</th>\n",
       "      <th>count</th>\n",
       "      <th>총생활인구수</th>\n",
       "      <th>남자어린이</th>\n",
       "      <th>10대남자</th>\n",
       "      <th>20대남자</th>\n",
       "      <th>30대남자</th>\n",
       "      <th>40대남자</th>\n",
       "      <th>...</th>\n",
       "      <th>70대_이상_여자</th>\n",
       "      <th>일시</th>\n",
       "      <th>평균기온(°C)</th>\n",
       "      <th>일강수량(mm)</th>\n",
       "      <th>평균 풍속(m/s)</th>\n",
       "      <th>평균 상대습도(%)</th>\n",
       "      <th>연</th>\n",
       "      <th>요일</th>\n",
       "      <th>평일1주말0</th>\n",
       "      <th>총대여량</th>\n",
       "    </tr>\n",
       "  </thead>\n",
       "  <tbody>\n",
       "    <tr>\n",
       "      <th>0</th>\n",
       "      <td>강남구</td>\n",
       "      <td>1</td>\n",
       "      <td>1</td>\n",
       "      <td>670</td>\n",
       "      <td>630427.948100</td>\n",
       "      <td>23744.000096</td>\n",
       "      <td>40710.049317</td>\n",
       "      <td>40023.042229</td>\n",
       "      <td>50792.234688</td>\n",
       "      <td>59617.356479</td>\n",
       "      <td>...</td>\n",
       "      <td>33911.445246</td>\n",
       "      <td>2022-01-01</td>\n",
       "      <td>-4.3</td>\n",
       "      <td>0.0</td>\n",
       "      <td>1.5</td>\n",
       "      <td>46.3</td>\n",
       "      <td>2022</td>\n",
       "      <td>5</td>\n",
       "      <td>0</td>\n",
       "      <td>670</td>\n",
       "    </tr>\n",
       "    <tr>\n",
       "      <th>1</th>\n",
       "      <td>강남구</td>\n",
       "      <td>1</td>\n",
       "      <td>2</td>\n",
       "      <td>740</td>\n",
       "      <td>650216.729237</td>\n",
       "      <td>24423.091921</td>\n",
       "      <td>42242.376854</td>\n",
       "      <td>41144.087775</td>\n",
       "      <td>52772.705779</td>\n",
       "      <td>61443.767825</td>\n",
       "      <td>...</td>\n",
       "      <td>33982.121912</td>\n",
       "      <td>2022-01-02</td>\n",
       "      <td>-1.3</td>\n",
       "      <td>0.3</td>\n",
       "      <td>2.3</td>\n",
       "      <td>57.9</td>\n",
       "      <td>2022</td>\n",
       "      <td>6</td>\n",
       "      <td>0</td>\n",
       "      <td>740</td>\n",
       "    </tr>\n",
       "  </tbody>\n",
       "</table>\n",
       "<p>2 rows × 30 columns</p>\n",
       "</div>"
      ],
      "text/plain": [
       "   행정구  월  일  count         총생활인구수         남자어린이         10대남자         20대남자  \\\n",
       "0  강남구  1  1    670  630427.948100  23744.000096  40710.049317  40023.042229   \n",
       "1  강남구  1  2    740  650216.729237  24423.091921  42242.376854  41144.087775   \n",
       "\n",
       "          30대남자         40대남자  ...     70대_이상_여자          일시  평균기온(°C)  \\\n",
       "0  50792.234688  59617.356479  ...  33911.445246  2022-01-01      -4.3   \n",
       "1  52772.705779  61443.767825  ...  33982.121912  2022-01-02      -1.3   \n",
       "\n",
       "   일강수량(mm)  평균 풍속(m/s)  평균 상대습도(%)     연  요일  평일1주말0  총대여량  \n",
       "0       0.0         1.5        46.3  2022   5       0   670  \n",
       "1       0.3         2.3        57.9  2022   6       0   740  \n",
       "\n",
       "[2 rows x 30 columns]"
      ]
     },
     "execution_count": 13,
     "metadata": {},
     "output_type": "execute_result"
    }
   ],
   "source": [
    "data_2022_final['총대여량'] = data_2022_final['count']\n",
    "data_2022_final.head(2)"
   ]
  },
  {
   "cell_type": "code",
   "execution_count": 17,
   "id": "c56ea55a",
   "metadata": {},
   "outputs": [],
   "source": [
    "data_2022_final = data_2022_final[[ '연','행정구', '월', '일','요일', '평일1주말0' ,'총생활인구수', '남자어린이', '10대남자', '20대남자', '30대남자',\n",
    "       '40대남자', '50대남자', '60대남자', '70대_이상_남자', '여자어린이', '10대여자', '20대여자',\n",
    "       '30대여자', '40대여자', '50대여자', '60대여자', '70대_이상_여자', '일시', '평균기온(°C)',\n",
    "       '일강수량(mm)', '평균 풍속(m/s)', '평균 상대습도(%)','총대여량']]"
   ]
  },
  {
   "cell_type": "code",
   "execution_count": 21,
   "id": "ddaab637",
   "metadata": {},
   "outputs": [],
   "source": [
    "data_2022_final.to_csv('model_1/2022_data_final.csv',index=False)"
   ]
  },
  {
   "cell_type": "markdown",
   "id": "5e2c75e0",
   "metadata": {},
   "source": [
    "# 3. 2023년 데이터"
   ]
  },
  {
   "cell_type": "code",
   "execution_count": 23,
   "id": "ca8df0b5",
   "metadata": {},
   "outputs": [
    {
     "name": "stdout",
     "output_type": "stream",
     "text": [
      "<class 'pandas.core.frame.DataFrame'>\n",
      "Int64Index: 9125 entries, 0 to 9124\n",
      "Data columns (total 29 columns):\n",
      " #   Column      Non-Null Count  Dtype  \n",
      "---  ------      --------------  -----  \n",
      " 0   연           9125 non-null   int64  \n",
      " 1   행정구         9125 non-null   object \n",
      " 2   월           9125 non-null   int64  \n",
      " 3   일           9125 non-null   int64  \n",
      " 4   요일          9125 non-null   int64  \n",
      " 5   평일1주말0      9125 non-null   int64  \n",
      " 6   총생활인구수      9125 non-null   float64\n",
      " 7   남자어린이       9125 non-null   float64\n",
      " 8   10대남자       9125 non-null   float64\n",
      " 9   20대남자       9125 non-null   float64\n",
      " 10  30대남자       9125 non-null   float64\n",
      " 11  40대남자       9125 non-null   float64\n",
      " 12  50대남자       9125 non-null   float64\n",
      " 13  60대남자       9125 non-null   float64\n",
      " 14  70대_이상_남자   9125 non-null   float64\n",
      " 15  여자어린이       9125 non-null   float64\n",
      " 16  10대여자       9125 non-null   float64\n",
      " 17  20대여자       9125 non-null   float64\n",
      " 18  30대여자       9125 non-null   float64\n",
      " 19  40대여자       9125 non-null   float64\n",
      " 20  50대여자       9125 non-null   float64\n",
      " 21  60대여자       9125 non-null   float64\n",
      " 22  70대_이상_여자   9125 non-null   float64\n",
      " 23  일시          9125 non-null   object \n",
      " 24  평균기온(°C)    9125 non-null   float64\n",
      " 25  일강수량(mm)    9125 non-null   float64\n",
      " 26  평균 풍속(m/s)  9125 non-null   float64\n",
      " 27  평균 상대습도(%)  9125 non-null   float64\n",
      " 28  총대여량        9125 non-null   int64  \n",
      "dtypes: float64(21), int64(6), object(2)\n",
      "memory usage: 2.1+ MB\n"
     ]
    }
   ],
   "source": [
    "data_w = pd.read_csv('model_1/2023_행정구별기상.csv')\n",
    "data_2023 = pd.read_csv('model_1/날짜붙이면2023년데이터완성.csv')\n",
    "data_2023_final = data_2023.merge(data_w, on=['월','일','행정구'])\n",
    "data_2023_final['총대여량'] = data_2023_final['count']\n",
    "data_2023_final = data_2023_final[[ '연','행정구', '월', '일','요일', '평일1주말0' ,'총생활인구수', '남자어린이', '10대남자', '20대남자', '30대남자',\n",
    "       '40대남자', '50대남자', '60대남자', '70대_이상_남자', '여자어린이', '10대여자', '20대여자',\n",
    "       '30대여자', '40대여자', '50대여자', '60대여자', '70대_이상_여자', '일시', '평균기온(°C)',\n",
    "       '일강수량(mm)', '평균 풍속(m/s)', '평균 상대습도(%)','총대여량']]\n",
    "data_2023_final.info()"
   ]
  },
  {
   "cell_type": "code",
   "execution_count": 24,
   "id": "716a2613",
   "metadata": {},
   "outputs": [],
   "source": [
    "data_2023_final.to_csv('model_1/2023_data_final.csv',index=False)"
   ]
  },
  {
   "cell_type": "markdown",
   "id": "b6805c94",
   "metadata": {},
   "source": [
    "# 4. 2024년 데이터"
   ]
  },
  {
   "cell_type": "code",
   "execution_count": 40,
   "id": "3e6376ae",
   "metadata": {},
   "outputs": [
    {
     "name": "stdout",
     "output_type": "stream",
     "text": [
      "<class 'pandas.core.frame.DataFrame'>\n",
      "RangeIndex: 9150 entries, 0 to 9149\n",
      "Data columns (total 21 columns):\n",
      " #   Column     Non-Null Count  Dtype  \n",
      "---  ------     --------------  -----  \n",
      " 0   행정구        9150 non-null   object \n",
      " 1   월          9150 non-null   int64  \n",
      " 2   일          9150 non-null   int64  \n",
      " 3   count      9150 non-null   int64  \n",
      " 4   총생활인구수     9150 non-null   float64\n",
      " 5   남자어린이      9150 non-null   float64\n",
      " 6   10대남자      9150 non-null   float64\n",
      " 7   20대남자      9150 non-null   float64\n",
      " 8   30대남자      9150 non-null   float64\n",
      " 9   40대남자      9150 non-null   float64\n",
      " 10  50대남자      9150 non-null   float64\n",
      " 11  60대남자      9150 non-null   float64\n",
      " 12  70대_이상_남자  9150 non-null   float64\n",
      " 13  여자어린이      9150 non-null   float64\n",
      " 14  10대여자      9150 non-null   float64\n",
      " 15  20대여자      9150 non-null   float64\n",
      " 16  30대여자      9150 non-null   float64\n",
      " 17  40대여자      9150 non-null   float64\n",
      " 18  50대여자      9150 non-null   float64\n",
      " 19  60대여자      9150 non-null   float64\n",
      " 20  70대_이상_여자  9150 non-null   float64\n",
      "dtypes: float64(17), int64(3), object(1)\n",
      "memory usage: 1.5+ MB\n"
     ]
    }
   ],
   "source": [
    "data_w = pd.read_csv('model_1/2024_행정구별기상.csv')\n",
    "data_2024 = pd.read_csv('model_1/날짜붙이면2024년데이터완성.csv')\n",
    "data_2024.info()\n",
    "# data_2024_final = data_2024.merge(data_w, on=['월','일','행정구'])\n",
    "# data_2024_final['총대여량'] = data_2024_final['count']\n",
    "# data_2024_final = data_2024_final[[ '연','행정구', '월', '일','요일', '평일1주말0' ,'총생활인구수', '남자어린이', '10대남자', '20대남자', '30대남자',\n",
    "#        '40대남자', '50대남자', '60대남자', '70대_이상_남자', '여자어린이', '10대여자', '20대여자',\n",
    "#        '30대여자', '40대여자', '50대여자', '60대여자', '70대_이상_여자', '일시', '평균기온(°C)',\n",
    "#        '일강수량(mm)', '평균 풍속(m/s)', '평균 상대습도(%)','총대여량']]\n",
    "# data_2024_final.info()"
   ]
  },
  {
   "cell_type": "code",
   "execution_count": 44,
   "id": "81fdf722",
   "metadata": {},
   "outputs": [
    {
     "name": "stdout",
     "output_type": "stream",
     "text": [
      "2\n"
     ]
    }
   ],
   "source": [
    "for i in range(1,13) :\n",
    "    if data_2024_final[data_2024_final['월']==i]['일'].count() != data_2023_final[data_2023_final['월']==i]['일'].count() :\n",
    "        print(i)"
   ]
  },
  {
   "cell_type": "code",
   "execution_count": 53,
   "id": "f80eb8df",
   "metadata": {},
   "outputs": [
    {
     "name": "stdout",
     "output_type": "stream",
     "text": [
      "<class 'pandas.core.frame.DataFrame'>\n",
      "Int64Index: 9125 entries, 0 to 9149\n",
      "Data columns (total 29 columns):\n",
      " #   Column      Non-Null Count  Dtype  \n",
      "---  ------      --------------  -----  \n",
      " 0   연           9125 non-null   int64  \n",
      " 1   행정구         9125 non-null   object \n",
      " 2   월           9125 non-null   int64  \n",
      " 3   일           9125 non-null   int64  \n",
      " 4   요일          9125 non-null   int64  \n",
      " 5   평일1주말0      9125 non-null   int64  \n",
      " 6   총생활인구수      9125 non-null   float64\n",
      " 7   남자어린이       9125 non-null   float64\n",
      " 8   10대남자       9125 non-null   float64\n",
      " 9   20대남자       9125 non-null   float64\n",
      " 10  30대남자       9125 non-null   float64\n",
      " 11  40대남자       9125 non-null   float64\n",
      " 12  50대남자       9125 non-null   float64\n",
      " 13  60대남자       9125 non-null   float64\n",
      " 14  70대_이상_남자   9125 non-null   float64\n",
      " 15  여자어린이       9125 non-null   float64\n",
      " 16  10대여자       9125 non-null   float64\n",
      " 17  20대여자       9125 non-null   float64\n",
      " 18  30대여자       9125 non-null   float64\n",
      " 19  40대여자       9125 non-null   float64\n",
      " 20  50대여자       9125 non-null   float64\n",
      " 21  60대여자       9125 non-null   float64\n",
      " 22  70대_이상_여자   9125 non-null   float64\n",
      " 23  일시          9125 non-null   object \n",
      " 24  평균기온(°C)    9125 non-null   float64\n",
      " 25  일강수량(mm)    9125 non-null   float64\n",
      " 26  평균 풍속(m/s)  9125 non-null   float64\n",
      " 27  평균 상대습도(%)  9125 non-null   float64\n",
      " 28  총대여량        9125 non-null   int64  \n",
      "dtypes: float64(21), int64(6), object(2)\n",
      "memory usage: 2.1+ MB\n"
     ]
    }
   ],
   "source": [
    "# 2월 윤년으로 1일이 많아서 데이터의 차이가 발생 => 데이터 비중이 작아 drop\n",
    "# data_2024_final[(data_2024_final['월']==2)&(data_2024_final['일']==29)]\n",
    "data_2024_test = data_2024_final[~((data_2024_final['월'] == 2) & (data_2024_final['일'] == 29))]\n",
    "data_2024_test.info()"
   ]
  },
  {
   "cell_type": "code",
   "execution_count": 54,
   "id": "0da64d09",
   "metadata": {},
   "outputs": [],
   "source": [
    "data_2024_test.to_csv('model_1/2024_data_final.csv',index=False)"
   ]
  },
  {
   "cell_type": "markdown",
   "id": "0ee92402",
   "metadata": {},
   "source": [
    "# 5. 데이터 통합"
   ]
  },
  {
   "cell_type": "code",
   "execution_count": 58,
   "id": "f5917614",
   "metadata": {},
   "outputs": [
    {
     "data": {
      "text/plain": [
       "array([ True,  True,  True,  True,  True,  True,  True,  True,  True,\n",
       "        True,  True,  True,  True,  True,  True,  True,  True,  True,\n",
       "        True,  True,  True,  True,  True,  True,  True,  True,  True,\n",
       "        True,  True])"
      ]
     },
     "execution_count": 58,
     "metadata": {},
     "output_type": "execute_result"
    }
   ],
   "source": [
    "data_2023_final.columns == data_2022_final.columns"
   ]
  },
  {
   "cell_type": "code",
   "execution_count": 59,
   "id": "c5bf01b1",
   "metadata": {},
   "outputs": [
    {
     "data": {
      "text/plain": [
       "array([ True,  True,  True,  True,  True,  True,  True,  True,  True,\n",
       "        True,  True,  True,  True,  True,  True,  True,  True,  True,\n",
       "        True,  True,  True,  True,  True,  True,  True,  True,  True,\n",
       "        True,  True])"
      ]
     },
     "execution_count": 59,
     "metadata": {},
     "output_type": "execute_result"
    }
   ],
   "source": [
    "data_2023_final.columns == data_2024_test.columns"
   ]
  },
  {
   "cell_type": "code",
   "execution_count": 69,
   "id": "8166dc15",
   "metadata": {},
   "outputs": [
    {
     "name": "stdout",
     "output_type": "stream",
     "text": [
      "<class 'pandas.core.frame.DataFrame'>\n",
      "Int64Index: 27375 entries, 0 to 9149\n",
      "Data columns (total 29 columns):\n",
      " #   Column      Non-Null Count  Dtype  \n",
      "---  ------      --------------  -----  \n",
      " 0   연           27375 non-null  int64  \n",
      " 1   행정구         27375 non-null  object \n",
      " 2   월           27375 non-null  int64  \n",
      " 3   일           27375 non-null  int64  \n",
      " 4   요일          27375 non-null  int64  \n",
      " 5   평일1주말0      27375 non-null  int64  \n",
      " 6   총생활인구수      27375 non-null  float64\n",
      " 7   남자어린이       27375 non-null  float64\n",
      " 8   10대남자       27375 non-null  float64\n",
      " 9   20대남자       27375 non-null  float64\n",
      " 10  30대남자       27375 non-null  float64\n",
      " 11  40대남자       27375 non-null  float64\n",
      " 12  50대남자       27375 non-null  float64\n",
      " 13  60대남자       27375 non-null  float64\n",
      " 14  70대_이상_남자   27375 non-null  float64\n",
      " 15  여자어린이       27375 non-null  float64\n",
      " 16  10대여자       27375 non-null  float64\n",
      " 17  20대여자       27375 non-null  float64\n",
      " 18  30대여자       27375 non-null  float64\n",
      " 19  40대여자       27375 non-null  float64\n",
      " 20  50대여자       27375 non-null  float64\n",
      " 21  60대여자       27375 non-null  float64\n",
      " 22  70대_이상_여자   27375 non-null  float64\n",
      " 23  일시          27375 non-null  object \n",
      " 24  평균기온(°C)    27375 non-null  float64\n",
      " 25  일강수량(mm)    27375 non-null  float64\n",
      " 26  평균 풍속(m/s)  27375 non-null  float64\n",
      " 27  평균 상대습도(%)  27375 non-null  float64\n",
      " 28  총대여량        27375 non-null  int64  \n",
      "dtypes: float64(21), int64(6), object(2)\n",
      "memory usage: 6.3+ MB\n"
     ]
    }
   ],
   "source": [
    "data_total = pd.concat([data_2022_final,data_2023_final,data_2024_test],axis=0)\n",
    "data_total.info()"
   ]
  },
  {
   "cell_type": "code",
   "execution_count": 71,
   "id": "980f99b2",
   "metadata": {},
   "outputs": [],
   "source": [
    "data_total['일시'] = pd.to_datetime(data_total['일시'])\n",
    "df = data_total.sort_values(['행정구', '일시']).reset_index(drop=True)\n",
    "df.to_csv('model_1/total_data.csv',index=False)"
   ]
  },
  {
   "cell_type": "code",
   "execution_count": 87,
   "id": "88b9bb18",
   "metadata": {},
   "outputs": [
    {
     "data": {
      "text/html": [
       "<div>\n",
       "<style scoped>\n",
       "    .dataframe tbody tr th:only-of-type {\n",
       "        vertical-align: middle;\n",
       "    }\n",
       "\n",
       "    .dataframe tbody tr th {\n",
       "        vertical-align: top;\n",
       "    }\n",
       "\n",
       "    .dataframe thead th {\n",
       "        text-align: right;\n",
       "    }\n",
       "</style>\n",
       "<table border=\"1\" class=\"dataframe\">\n",
       "  <thead>\n",
       "    <tr style=\"text-align: right;\">\n",
       "      <th></th>\n",
       "      <th>행정구</th>\n",
       "      <th>연</th>\n",
       "      <th>자전거전용도로수</th>\n",
       "      <th>자전거전용도로km</th>\n",
       "    </tr>\n",
       "  </thead>\n",
       "  <tbody>\n",
       "    <tr>\n",
       "      <th>0</th>\n",
       "      <td>종로구</td>\n",
       "      <td>2022</td>\n",
       "      <td>43</td>\n",
       "      <td>32.1</td>\n",
       "    </tr>\n",
       "    <tr>\n",
       "      <th>1</th>\n",
       "      <td>종로구</td>\n",
       "      <td>2023</td>\n",
       "      <td>43</td>\n",
       "      <td>32.1</td>\n",
       "    </tr>\n",
       "    <tr>\n",
       "      <th>2</th>\n",
       "      <td>종로구</td>\n",
       "      <td>2024</td>\n",
       "      <td>44</td>\n",
       "      <td>32.0</td>\n",
       "    </tr>\n",
       "    <tr>\n",
       "      <th>3</th>\n",
       "      <td>중구</td>\n",
       "      <td>2022</td>\n",
       "      <td>21</td>\n",
       "      <td>22.4</td>\n",
       "    </tr>\n",
       "    <tr>\n",
       "      <th>4</th>\n",
       "      <td>중구</td>\n",
       "      <td>2023</td>\n",
       "      <td>21</td>\n",
       "      <td>22.4</td>\n",
       "    </tr>\n",
       "    <tr>\n",
       "      <th>...</th>\n",
       "      <td>...</td>\n",
       "      <td>...</td>\n",
       "      <td>...</td>\n",
       "      <td>...</td>\n",
       "    </tr>\n",
       "    <tr>\n",
       "      <th>70</th>\n",
       "      <td>송파구</td>\n",
       "      <td>2023</td>\n",
       "      <td>193</td>\n",
       "      <td>99.7</td>\n",
       "    </tr>\n",
       "    <tr>\n",
       "      <th>71</th>\n",
       "      <td>송파구</td>\n",
       "      <td>2024</td>\n",
       "      <td>225</td>\n",
       "      <td>116.7</td>\n",
       "    </tr>\n",
       "    <tr>\n",
       "      <th>72</th>\n",
       "      <td>강동구</td>\n",
       "      <td>2022</td>\n",
       "      <td>94</td>\n",
       "      <td>74.4</td>\n",
       "    </tr>\n",
       "    <tr>\n",
       "      <th>73</th>\n",
       "      <td>강동구</td>\n",
       "      <td>2023</td>\n",
       "      <td>99</td>\n",
       "      <td>76.6</td>\n",
       "    </tr>\n",
       "    <tr>\n",
       "      <th>74</th>\n",
       "      <td>강동구</td>\n",
       "      <td>2024</td>\n",
       "      <td>99</td>\n",
       "      <td>76.6</td>\n",
       "    </tr>\n",
       "  </tbody>\n",
       "</table>\n",
       "<p>75 rows × 4 columns</p>\n",
       "</div>"
      ],
      "text/plain": [
       "    행정구     연  자전거전용도로수  자전거전용도로km\n",
       "0   종로구  2022        43       32.1\n",
       "1   종로구  2023        43       32.1\n",
       "2   종로구  2024        44       32.0\n",
       "3    중구  2022        21       22.4\n",
       "4    중구  2023        21       22.4\n",
       "..  ...   ...       ...        ...\n",
       "70  송파구  2023       193       99.7\n",
       "71  송파구  2024       225      116.7\n",
       "72  강동구  2022        94       74.4\n",
       "73  강동구  2023        99       76.6\n",
       "74  강동구  2024        99       76.6\n",
       "\n",
       "[75 rows x 4 columns]"
      ]
     },
     "execution_count": 87,
     "metadata": {},
     "output_type": "execute_result"
    }
   ],
   "source": [
    "road = pd.read_csv('data/자전거도로+현황(2013년+이후)_20250621133428.csv')\n",
    "road"
   ]
  },
  {
   "cell_type": "code",
   "execution_count": 91,
   "id": "80cf75b0",
   "metadata": {},
   "outputs": [
    {
     "data": {
      "text/plain": [
       "행정구          0\n",
       "연            0\n",
       "자전거전용도로수     0\n",
       "자전거전용도로km    0\n",
       "dtype: int64"
      ]
     },
     "execution_count": 91,
     "metadata": {},
     "output_type": "execute_result"
    }
   ],
   "source": [
    "road.isna().sum()"
   ]
  },
  {
   "cell_type": "code",
   "execution_count": 88,
   "id": "c2a92506",
   "metadata": {},
   "outputs": [],
   "source": [
    "df_test = df.merge(road, on=['행정구','연'])"
   ]
  },
  {
   "cell_type": "code",
   "execution_count": 92,
   "id": "f99fd50b",
   "metadata": {},
   "outputs": [],
   "source": [
    "df_test.to_csv('model_1/total_data.csv',index=False)"
   ]
  },
  {
   "cell_type": "code",
   "execution_count": null,
   "id": "0d657b1a",
   "metadata": {},
   "outputs": [],
   "source": []
  }
 ],
 "metadata": {
  "kernelspec": {
   "display_name": "ml-dl-nlp",
   "language": "python",
   "name": "ml-dl-nlp"
  },
  "language_info": {
   "codemirror_mode": {
    "name": "ipython",
    "version": 3
   },
   "file_extension": ".py",
   "mimetype": "text/x-python",
   "name": "python",
   "nbconvert_exporter": "python",
   "pygments_lexer": "ipython3",
   "version": "3.9.23"
  },
  "toc": {
   "base_numbering": 1,
   "nav_menu": {},
   "number_sections": false,
   "sideBar": true,
   "skip_h1_title": false,
   "title_cell": "Table of Contents",
   "title_sidebar": "Contents",
   "toc_cell": false,
   "toc_position": {
    "height": "calc(100% - 180px)",
    "left": "10px",
    "top": "150px",
    "width": "229px"
   },
   "toc_section_display": true,
   "toc_window_display": true
  }
 },
 "nbformat": 4,
 "nbformat_minor": 5
}
