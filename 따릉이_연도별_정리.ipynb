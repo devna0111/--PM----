{
 "cells": [
  {
   "cell_type": "code",
   "execution_count": 1,
   "id": "f2f62f8b",
   "metadata": {},
   "outputs": [
    {
     "data": {
      "text/html": [
       "\n",
       "<style>\n",
       "div.container{width:86% !important;}\n",
       "div.cell.code_cell.rendered{width:100%;}\n",
       "div.CodeMirror {font-family:Consolas; font-size:12pt;}\n",
       "div.output {font-size:15pt; font-weight:bold;}\n",
       "div.input {font-family:Consolas; font-size:12pt;}\n",
       "div.prompt {min-width:70px;}\n",
       "div#toc-wrapper{padding-top:120px;}\n",
       "div.text_cell_render ul li{font-size:12pt;padding:5px;}\n",
       "table.dataframe{font-size:15px;}\n",
       "</style>\n"
      ],
      "text/plain": [
       "<IPython.core.display.HTML object>"
      ]
     },
     "metadata": {},
     "output_type": "display_data"
    }
   ],
   "source": [
    "from IPython.display import display, HTML\n",
    "display(HTML(\"\"\"\n",
    "<style>\n",
    "div.container{width:86% !important;}\n",
    "div.cell.code_cell.rendered{width:100%;}\n",
    "div.CodeMirror {font-family:Consolas; font-size:12pt;}\n",
    "div.output {font-size:15pt; font-weight:bold;}\n",
    "div.input {font-family:Consolas; font-size:12pt;}\n",
    "div.prompt {min-width:70px;}\n",
    "div#toc-wrapper{padding-top:120px;}\n",
    "div.text_cell_render ul li{font-size:12pt;padding:5px;}\n",
    "table.dataframe{font-size:15px;}\n",
    "</style>\n",
    "\"\"\"))"
   ]
  },
  {
   "cell_type": "markdown",
   "id": "00c7a9d2",
   "metadata": {},
   "source": [
    "# 데이터 구성 확인 및 전처리"
   ]
  },
  {
   "cell_type": "code",
   "execution_count": 24,
   "id": "be02a69e",
   "metadata": {},
   "outputs": [],
   "source": [
    "# 필요 라이브러리 호출\n",
    "import dotenv\n",
    "import os\n",
    "import time\n",
    "import pandas as pd\n",
    "import matplotlib.pyplot as plt\n",
    "import requests\n",
    "from bs4 import BeautifulSoup\n",
    "import xml.etree.ElementTree as ET\n",
    "import warnings"
   ]
  },
  {
   "cell_type": "code",
   "execution_count": null,
   "id": "bae59979",
   "metadata": {},
   "outputs": [],
   "source": [
    "df_2201 = pd.read_csv('data/서울특별시 공공자전거 대여이력 정보_2201.csv', encoding='cp949')"
   ]
  },
  {
   "cell_type": "code",
   "execution_count": null,
   "id": "9bd5c45b",
   "metadata": {},
   "outputs": [],
   "source": [
    "df_2202 = pd.read_csv('data/서울특별시 공공자전거 대여이력 정보_2202.csv', encoding='cp949')\n",
    "df_2202.columns == df_2201.columns # 같은 년도의 데이터 컬럼명 일치"
   ]
  },
  {
   "cell_type": "code",
   "execution_count": null,
   "id": "a226fce9",
   "metadata": {},
   "outputs": [],
   "source": [
    "df_2202.columns"
   ]
  },
  {
   "cell_type": "code",
   "execution_count": null,
   "id": "d8244b13",
   "metadata": {},
   "outputs": [],
   "source": [
    "df_2301 = pd.read_csv('data/서울특별시 공공자전거 대여이력 정보_2301.csv', encoding='cp949')\n",
    "df_2301.columns # 23년 데이터가 더 세분화"
   ]
  },
  {
   "cell_type": "code",
   "execution_count": 16,
   "id": "fbd0a2d4",
   "metadata": {},
   "outputs": [],
   "source": [
    "df_2401 = pd.read_csv('data/서울특별시 공공자전거 대여이력 정보_2401.csv', encoding='cp949')"
   ]
  },
  {
   "cell_type": "code",
   "execution_count": null,
   "id": "a26587d0",
   "metadata": {},
   "outputs": [],
   "source": [
    "df_2401.columns # 24년 데이터가 더 세분화"
   ]
  },
  {
   "cell_type": "markdown",
   "id": "4bfc39de",
   "metadata": {},
   "source": [
    "## 연도별 데이터 컬럼의 공통부분들만 모아서 새로운 데이터로 전처리가 필요\n",
    "- 22년 ~ 24년의 데이터 : 월별 시간대별 사용량을 체크할 수 있는 데이터셋\n",
    "- 그러나 현재 columns의 구성요소 차이가 발생하는 중으로 공통부분들만 모아서 새로운 데이터로 처리"
   ]
  },
  {
   "cell_type": "code",
   "execution_count": null,
   "id": "85603582",
   "metadata": {},
   "outputs": [],
   "source": [
    "# file_path = f'data/서울특별시 공공자전거 대여이력 정보_{year_month}.csv'\n",
    "df_total = pd.DataFrame(columns=['대여일시','대여 대여소번호'])\n",
    "df_total.head(2)"
   ]
  },
  {
   "cell_type": "code",
   "execution_count": null,
   "id": "694e44ee",
   "metadata": {},
   "outputs": [],
   "source": [
    "Years = [22,23,24] # 3개년 데이터 활용\n",
    "Months = [i for i in range(1,13)] # 12개월치\n",
    "for year in Years :\n",
    "    for month in Months :\n",
    "        year_month = str(year) + (str(month) if len(str(month)) == 2 else '0'+str(month))\n",
    "        file_path = f'data/서울특별시 공공자전거 대여이력 정보_{year_month}.csv'\n",
    "        df_temp = pd.read_csv(file_path, encoding='cp949').iloc[:,:3]\n",
    "        df_total = pd.concat((df_total,df_temp[['대여일시','대여 대여소번호']]))\n",
    "        print(year_month, '진행 완료')\n",
    "    print('다음해에 적용합니다')"
   ]
  },
  {
   "cell_type": "code",
   "execution_count": null,
   "id": "da45ae35",
   "metadata": {},
   "outputs": [],
   "source": [
    "df_total"
   ]
  },
  {
   "cell_type": "code",
   "execution_count": 10,
   "id": "5e1a33dd",
   "metadata": {},
   "outputs": [],
   "source": [
    "df_total.reset_index(drop=True,inplace=True)"
   ]
  },
  {
   "cell_type": "code",
   "execution_count": 11,
   "id": "1138eb74",
   "metadata": {},
   "outputs": [],
   "source": [
    "# 대여소 번호 체크\n",
    "stop_info = pd.read_csv('data/공공자전거대여소정보.csv').iloc[:,:3]\n",
    "stop_info.dropna(inplace=True)"
   ]
  },
  {
   "cell_type": "code",
   "execution_count": 12,
   "id": "e0bcaad6",
   "metadata": {},
   "outputs": [],
   "source": [
    "stop_info['대여소번호'] = stop_info['대여소번호'].astype(int,copy = False)"
   ]
  },
  {
   "cell_type": "code",
   "execution_count": null,
   "id": "1d866086",
   "metadata": {},
   "outputs": [],
   "source": [
    "stop_info"
   ]
  },
  {
   "cell_type": "code",
   "execution_count": 14,
   "id": "0e881d21",
   "metadata": {},
   "outputs": [],
   "source": [
    "# df_total에 stop_info 대여소 번호에 따라 대여소 이름과 행정구 붙이기"
   ]
  },
  {
   "cell_type": "code",
   "execution_count": 15,
   "id": "6e9e0430",
   "metadata": {},
   "outputs": [
    {
     "data": {
      "application/vnd.microsoft.datawrangler.viewer.v0+json": {
       "columns": [
        {
         "name": "index",
         "rawType": "object",
         "type": "string"
        },
        {
         "name": "10000000",
         "rawType": "object",
         "type": "string"
        }
       ],
       "ref": "5a6559b3-85b7-4f3f-94c4-8258a6af9942",
       "rows": [
        [
         "자전거번호",
         "SPB-53237"
        ],
        [
         "대여일시",
         "2022-05-30 22:05:04"
        ],
        [
         "대여 대여소번호",
         "3573.0"
        ]
       ],
       "shape": {
        "columns": 1,
        "rows": 3
       }
      },
      "text/plain": [
       "자전거번호                 SPB-53237\n",
       "대여일시        2022-05-30 22:05:04\n",
       "대여 대여소번호                 3573.0\n",
       "Name: 10000000, dtype: object"
      ]
     },
     "execution_count": 15,
     "metadata": {},
     "output_type": "execute_result"
    }
   ],
   "source": [
    "df_total.iloc[10000000]\n",
    "# 일반시민이 이용하는 대여소 번호만 추출"
   ]
  },
  {
   "cell_type": "code",
   "execution_count": null,
   "id": "6d6e55a8",
   "metadata": {},
   "outputs": [],
   "source": [
    "min(stop_info['대여소번호'].tolist()),max(stop_info['대여소번호'].tolist()) # (102, 6178)"
   ]
  },
  {
   "cell_type": "code",
   "execution_count": 20,
   "id": "f238232b",
   "metadata": {},
   "outputs": [],
   "source": [
    "import numpy as np\n",
    "# df_total['대여 대여소번호'] = df_total['대여 대여소번호'].astype(str).replace('\\\\N',np.nan) # 18000여개의 누락, 그러나 고유네임으로 사용하는 대여소 번호를 대체하는 것은 불가하다고 판단, drop 처리\n",
    "# df_total.dropna(inplace=True)\n",
    "df_total['대여 대여소번호'] = df_total['대여 대여소번호'].astype(float)"
   ]
  },
  {
   "cell_type": "code",
   "execution_count": 21,
   "id": "97876a5d",
   "metadata": {},
   "outputs": [
    {
     "data": {
      "application/vnd.microsoft.datawrangler.viewer.v0+json": {
       "columns": [
        {
         "name": "index",
         "rawType": "int64",
         "type": "integer"
        },
        {
         "name": "자전거번호",
         "rawType": "object",
         "type": "string"
        },
        {
         "name": "대여일시",
         "rawType": "object",
         "type": "string"
        },
        {
         "name": "대여 대여소번호",
         "rawType": "float64",
         "type": "float"
        }
       ],
       "ref": "181c2d17-4a47-4a50-9e02-6e4a8f567569",
       "rows": [
        [
         "2",
         "SPB-33633",
         "2022-01-02 16:02:42",
         "3.0"
        ],
        [
         "3",
         "SPB-49457",
         "2022-01-06 08:09:11",
         "3.0"
        ],
        [
         "4",
         "SPB-32344",
         "2022-01-11 17:53:40",
         "3.0"
        ],
        [
         "5",
         "SPB-50724",
         "2022-01-17 16:02:21",
         "3.0"
        ],
        [
         "6",
         "SPB-34117",
         "2022-01-17 17:57:28",
         "3.0"
        ],
        [
         "7",
         "SPB-43605",
         "2022-01-18 17:50:41",
         "3.0"
        ],
        [
         "8",
         "SPB-48183",
         "2022-01-19 16:08:02",
         "3.0"
        ],
        [
         "9",
         "SPB-51504",
         "2022-01-19 17:56:41",
         "3.0"
        ],
        [
         "10",
         "SPB-50656",
         "2022-01-22 10:55:02",
         "3.0"
        ],
        [
         "11",
         "SPB-57623",
         "2022-01-27 22:03:29",
         "3.0"
        ],
        [
         "12",
         "SPB-57623",
         "2022-01-28 16:17:33",
         "3.0"
        ],
        [
         "13",
         "SPB-49501",
         "2022-01-03 17:50:47",
         "5.0"
        ],
        [
         "14",
         "SPB-49328",
         "2022-01-10 16:46:01",
         "5.0"
        ],
        [
         "15",
         "SPB-49472",
         "2022-01-11 16:57:18",
         "5.0"
        ],
        [
         "16",
         "SPB-49472",
         "2022-01-12 16:55:40",
         "5.0"
        ],
        [
         "17",
         "SPB-49472",
         "2022-01-14 14:55:53",
         "5.0"
        ],
        [
         "18",
         "SPB-50019",
         "2022-01-18 16:59:39",
         "5.0"
        ],
        [
         "19",
         "SPB-58296",
         "2022-01-26 16:55:56",
         "5.0"
        ],
        [
         "20",
         "SPB-50680",
         "2022-01-28 16:54:09",
         "5.0"
        ],
        [
         "21",
         "SPB-53220",
         "2022-01-01 09:02:01",
         "102.0"
        ],
        [
         "22",
         "SPB-54151",
         "2022-01-01 09:42:06",
         "102.0"
        ],
        [
         "23",
         "SPB-53220",
         "2022-01-01 10:05:30",
         "102.0"
        ],
        [
         "24",
         "SPB-58810",
         "2022-01-01 11:14:51",
         "102.0"
        ],
        [
         "25",
         "SPB-30176",
         "2022-01-01 12:22:38",
         "102.0"
        ],
        [
         "26",
         "SPB-50890",
         "2022-01-01 12:22:34",
         "102.0"
        ],
        [
         "27",
         "SPB-50771",
         "2022-01-01 12:12:23",
         "102.0"
        ],
        [
         "28",
         "SPB-53053",
         "2022-01-01 12:53:53",
         "102.0"
        ],
        [
         "29",
         "SPB-54573",
         "2022-01-01 12:43:55",
         "102.0"
        ],
        [
         "30",
         "SPB-58698",
         "2022-01-01 13:34:09",
         "102.0"
        ],
        [
         "31",
         "SPB-39674",
         "2022-01-01 14:43:32",
         "102.0"
        ],
        [
         "32",
         "SPB-51850",
         "2022-01-01 14:12:25",
         "102.0"
        ],
        [
         "33",
         "SPB-44122",
         "2022-01-01 15:28:06",
         "102.0"
        ],
        [
         "34",
         "SPB-39484",
         "2022-01-01 16:59:29",
         "102.0"
        ],
        [
         "35",
         "SPB-56147",
         "2022-01-01 17:30:08",
         "102.0"
        ],
        [
         "36",
         "SPB-58214",
         "2022-01-01 17:46:55",
         "102.0"
        ],
        [
         "37",
         "SPB-31822",
         "2022-01-01 17:36:37",
         "102.0"
        ],
        [
         "38",
         "SPB-52616",
         "2022-01-01 17:38:09",
         "102.0"
        ],
        [
         "39",
         "SPB-51486",
         "2022-01-01 17:50:07",
         "102.0"
        ],
        [
         "40",
         "SPB-49325",
         "2022-01-01 17:41:38",
         "102.0"
        ],
        [
         "41",
         "SPB-31393",
         "2022-01-01 18:52:18",
         "102.0"
        ],
        [
         "42",
         "SPB-41327",
         "2022-01-01 18:37:24",
         "102.0"
        ],
        [
         "43",
         "SPB-58335",
         "2022-01-01 19:07:23",
         "102.0"
        ],
        [
         "44",
         "SPB-53705",
         "2022-01-01 18:25:15",
         "102.0"
        ],
        [
         "45",
         "SPB-41682",
         "2022-01-01 19:09:36",
         "102.0"
        ],
        [
         "46",
         "SPB-54316",
         "2022-01-01 19:00:14",
         "102.0"
        ],
        [
         "47",
         "SPB-51850",
         "2022-01-01 19:22:16",
         "102.0"
        ],
        [
         "48",
         "SPB-57611",
         "2022-01-01 18:33:00",
         "102.0"
        ],
        [
         "49",
         "SPB-43917",
         "2022-01-01 18:28:45",
         "102.0"
        ],
        [
         "50",
         "SPB-57934",
         "2022-01-01 20:36:31",
         "102.0"
        ],
        [
         "51",
         "SPB-37861",
         "2022-01-01 20:16:02",
         "102.0"
        ]
       ],
       "shape": {
        "columns": 3,
        "rows": 132345401
       }
      },
      "text/html": [
       "<div>\n",
       "<style scoped>\n",
       "    .dataframe tbody tr th:only-of-type {\n",
       "        vertical-align: middle;\n",
       "    }\n",
       "\n",
       "    .dataframe tbody tr th {\n",
       "        vertical-align: top;\n",
       "    }\n",
       "\n",
       "    .dataframe thead th {\n",
       "        text-align: right;\n",
       "    }\n",
       "</style>\n",
       "<table border=\"1\" class=\"dataframe\">\n",
       "  <thead>\n",
       "    <tr style=\"text-align: right;\">\n",
       "      <th></th>\n",
       "      <th>자전거번호</th>\n",
       "      <th>대여일시</th>\n",
       "      <th>대여 대여소번호</th>\n",
       "    </tr>\n",
       "  </thead>\n",
       "  <tbody>\n",
       "    <tr>\n",
       "      <th>2</th>\n",
       "      <td>SPB-33633</td>\n",
       "      <td>2022-01-02 16:02:42</td>\n",
       "      <td>3.0</td>\n",
       "    </tr>\n",
       "    <tr>\n",
       "      <th>3</th>\n",
       "      <td>SPB-49457</td>\n",
       "      <td>2022-01-06 08:09:11</td>\n",
       "      <td>3.0</td>\n",
       "    </tr>\n",
       "    <tr>\n",
       "      <th>4</th>\n",
       "      <td>SPB-32344</td>\n",
       "      <td>2022-01-11 17:53:40</td>\n",
       "      <td>3.0</td>\n",
       "    </tr>\n",
       "    <tr>\n",
       "      <th>5</th>\n",
       "      <td>SPB-50724</td>\n",
       "      <td>2022-01-17 16:02:21</td>\n",
       "      <td>3.0</td>\n",
       "    </tr>\n",
       "    <tr>\n",
       "      <th>6</th>\n",
       "      <td>SPB-34117</td>\n",
       "      <td>2022-01-17 17:57:28</td>\n",
       "      <td>3.0</td>\n",
       "    </tr>\n",
       "    <tr>\n",
       "      <th>...</th>\n",
       "      <td>...</td>\n",
       "      <td>...</td>\n",
       "      <td>...</td>\n",
       "    </tr>\n",
       "    <tr>\n",
       "      <th>132528107</th>\n",
       "      <td>SPB-41249</td>\n",
       "      <td>2024-12-31 23:14:10</td>\n",
       "      <td>4032.0</td>\n",
       "    </tr>\n",
       "    <tr>\n",
       "      <th>132528108</th>\n",
       "      <td>SPB-48042</td>\n",
       "      <td>2024-12-31 21:45:25</td>\n",
       "      <td>3759.0</td>\n",
       "    </tr>\n",
       "    <tr>\n",
       "      <th>132528109</th>\n",
       "      <td>SPB-66936</td>\n",
       "      <td>2024-12-31 23:46:21</td>\n",
       "      <td>4629.0</td>\n",
       "    </tr>\n",
       "    <tr>\n",
       "      <th>132528110</th>\n",
       "      <td>SPB-50325</td>\n",
       "      <td>2024-12-31 23:46:26</td>\n",
       "      <td>4629.0</td>\n",
       "    </tr>\n",
       "    <tr>\n",
       "      <th>132528111</th>\n",
       "      <td>SPB-31248</td>\n",
       "      <td>2024-12-31 23:19:31</td>\n",
       "      <td>2732.0</td>\n",
       "    </tr>\n",
       "  </tbody>\n",
       "</table>\n",
       "<p>132345401 rows × 3 columns</p>\n",
       "</div>"
      ],
      "text/plain": [
       "               자전거번호                 대여일시  대여 대여소번호\n",
       "2          SPB-33633  2022-01-02 16:02:42       3.0\n",
       "3          SPB-49457  2022-01-06 08:09:11       3.0\n",
       "4          SPB-32344  2022-01-11 17:53:40       3.0\n",
       "5          SPB-50724  2022-01-17 16:02:21       3.0\n",
       "6          SPB-34117  2022-01-17 17:57:28       3.0\n",
       "...              ...                  ...       ...\n",
       "132528107  SPB-41249  2024-12-31 23:14:10    4032.0\n",
       "132528108  SPB-48042  2024-12-31 21:45:25    3759.0\n",
       "132528109  SPB-66936  2024-12-31 23:46:21    4629.0\n",
       "132528110  SPB-50325  2024-12-31 23:46:26    4629.0\n",
       "132528111  SPB-31248  2024-12-31 23:19:31    2732.0\n",
       "\n",
       "[132345401 rows x 3 columns]"
      ]
     },
     "execution_count": 21,
     "metadata": {},
     "output_type": "execute_result"
    }
   ],
   "source": [
    "df_total"
   ]
  },
  {
   "cell_type": "code",
   "execution_count": 22,
   "id": "d52cb5a6",
   "metadata": {},
   "outputs": [],
   "source": [
    "df_total = df_total[(df_total['대여 대여소번호']>=102)&(df_total['대여 대여소번호']<=6178)]"
   ]
  },
  {
   "cell_type": "code",
   "execution_count": 25,
   "id": "a2e05ade",
   "metadata": {},
   "outputs": [],
   "source": [
    "df_total = df_total.iloc[:,1:]"
   ]
  },
  {
   "cell_type": "code",
   "execution_count": 26,
   "id": "be1bb271",
   "metadata": {},
   "outputs": [],
   "source": [
    "def data_plus(row):\n",
    "    row = row.copy()\n",
    "    try:\n",
    "        match = stop_info[stop_info['대여소번호'].astype(str) == str(row['대여 대여소번호'])].iloc[0]\n",
    "        row['대여소이름'] = match['대여소이름']\n",
    "        row['행정구'] = match['행정구']\n",
    "    except IndexError:\n",
    "        row['대여소이름'] = np.nan\n",
    "        row['행정구'] = np.nan\n",
    "    finally :\n",
    "        print('작업진행중입니다')\n",
    "    return row"
   ]
  },
  {
   "cell_type": "code",
   "execution_count": 27,
   "id": "3da85444",
   "metadata": {},
   "outputs": [
    {
     "name": "stdout",
     "output_type": "stream",
     "text": [
      "작업진행중입니다\n"
     ]
    },
    {
     "data": {
      "application/vnd.microsoft.datawrangler.viewer.v0+json": {
       "columns": [
        {
         "name": "index",
         "rawType": "object",
         "type": "string"
        },
        {
         "name": "21",
         "rawType": "object",
         "type": "string"
        }
       ],
       "ref": "83ca9dac-1a4b-4c01-81f9-755a0f45e951",
       "rows": [
        [
         "대여일시",
         "2022-01-01 09:02:01"
        ],
        [
         "대여 대여소번호",
         "102.0"
        ],
        [
         "대여소이름",
         null
        ],
        [
         "행정구",
         null
        ]
       ],
       "shape": {
        "columns": 1,
        "rows": 4
       }
      },
      "text/plain": [
       "대여일시        2022-01-01 09:02:01\n",
       "대여 대여소번호                  102.0\n",
       "대여소이름                       NaN\n",
       "행정구                         NaN\n",
       "Name: 21, dtype: object"
      ]
     },
     "execution_count": 27,
     "metadata": {},
     "output_type": "execute_result"
    }
   ],
   "source": [
    "data_plus(df_total.iloc[0])"
   ]
  },
  {
   "cell_type": "code",
   "execution_count": null,
   "id": "b336f4ac",
   "metadata": {},
   "outputs": [],
   "source": [
    "df_total.apply(data_plus, axis=1) # 시간이 너무 오래 걸림(O(n)이라고 해도 단위가 너무큼. merge 방식 전환)"
   ]
  },
  {
   "cell_type": "code",
   "execution_count": 36,
   "id": "290339ff",
   "metadata": {},
   "outputs": [],
   "source": [
    "# stop_info\n",
    "# df_total['대여소번호'] = df_total['대여 대여소번호']\n",
    "df_total.drop('대여 대여소번호', axis=1, inplace=True)"
   ]
  },
  {
   "cell_type": "code",
   "execution_count": 38,
   "id": "685b128d",
   "metadata": {},
   "outputs": [],
   "source": [
    "df_final = df_total.merge(stop_info, how='left', on='대여소번호')"
   ]
  },
  {
   "cell_type": "code",
   "execution_count": null,
   "id": "f1e6eee3",
   "metadata": {},
   "outputs": [
    {
     "data": {
      "application/vnd.microsoft.datawrangler.viewer.v0+json": {
       "columns": [
        {
         "name": "index",
         "rawType": "object",
         "type": "string"
        },
        {
         "name": "0",
         "rawType": "int64",
         "type": "integer"
        }
       ],
       "ref": "c4b54fcc-006b-4c15-84e1-d7e32cff3400",
       "rows": [
        [
         "대여일시",
         "0"
        ],
        [
         "대여소번호",
         "0"
        ],
        [
         "대여소이름",
         "3563067"
        ],
        [
         "행정구",
         "3563067"
        ]
       ],
       "shape": {
        "columns": 1,
        "rows": 4
       }
      },
      "text/plain": [
       "대여일시           0\n",
       "대여소번호          0\n",
       "대여소이름    3563067\n",
       "행정구      3563067\n",
       "dtype: int64"
      ]
     },
     "execution_count": 41,
     "metadata": {},
     "output_type": "execute_result"
    }
   ],
   "source": [
    "df_final.isna().sum() # 3563067개 대여소번호와 대여소이름이 맞지 않음"
   ]
  },
  {
   "cell_type": "code",
   "execution_count": null,
   "id": "758321ab",
   "metadata": {},
   "outputs": [
    {
     "data": {
      "text/plain": [
       "0.026923152920746356"
      ]
     },
     "execution_count": 44,
     "metadata": {},
     "output_type": "execute_result"
    }
   ],
   "source": [
    "3563067/df_final.shape[0] # 약 2.7%에 해당하며, 이는 일반 시민이 사용하는 것이 아니라 정비센터 등의 목적으로 사용하는 대여소"
   ]
  },
  {
   "cell_type": "code",
   "execution_count": 45,
   "id": "1771fcee",
   "metadata": {},
   "outputs": [],
   "source": [
    "df_final.dropna(inplace=True)"
   ]
  },
  {
   "cell_type": "code",
   "execution_count": 46,
   "id": "211c9287",
   "metadata": {},
   "outputs": [
    {
     "data": {
      "application/vnd.microsoft.datawrangler.viewer.v0+json": {
       "columns": [
        {
         "name": "index",
         "rawType": "int64",
         "type": "integer"
        },
        {
         "name": "대여일시",
         "rawType": "object",
         "type": "string"
        },
        {
         "name": "대여소번호",
         "rawType": "float64",
         "type": "float"
        },
        {
         "name": "대여소이름",
         "rawType": "object",
         "type": "string"
        },
        {
         "name": "행정구",
         "rawType": "object",
         "type": "string"
        }
       ],
       "ref": "f82405c8-4812-44f9-99ec-7065cc168dac",
       "rows": [
        [
         "0",
         "2022-01-01 09:02:01",
         "102.0",
         " 망원역 1번출구 앞",
         "마포구"
        ],
        [
         "1",
         "2022-01-01 09:42:06",
         "102.0",
         " 망원역 1번출구 앞",
         "마포구"
        ],
        [
         "2",
         "2022-01-01 10:05:30",
         "102.0",
         " 망원역 1번출구 앞",
         "마포구"
        ],
        [
         "3",
         "2022-01-01 11:14:51",
         "102.0",
         " 망원역 1번출구 앞",
         "마포구"
        ],
        [
         "4",
         "2022-01-01 12:22:38",
         "102.0",
         " 망원역 1번출구 앞",
         "마포구"
        ],
        [
         "5",
         "2022-01-01 12:22:34",
         "102.0",
         " 망원역 1번출구 앞",
         "마포구"
        ],
        [
         "6",
         "2022-01-01 12:12:23",
         "102.0",
         " 망원역 1번출구 앞",
         "마포구"
        ],
        [
         "7",
         "2022-01-01 12:53:53",
         "102.0",
         " 망원역 1번출구 앞",
         "마포구"
        ],
        [
         "8",
         "2022-01-01 12:43:55",
         "102.0",
         " 망원역 1번출구 앞",
         "마포구"
        ],
        [
         "9",
         "2022-01-01 13:34:09",
         "102.0",
         " 망원역 1번출구 앞",
         "마포구"
        ],
        [
         "10",
         "2022-01-01 14:43:32",
         "102.0",
         " 망원역 1번출구 앞",
         "마포구"
        ],
        [
         "11",
         "2022-01-01 14:12:25",
         "102.0",
         " 망원역 1번출구 앞",
         "마포구"
        ],
        [
         "12",
         "2022-01-01 15:28:06",
         "102.0",
         " 망원역 1번출구 앞",
         "마포구"
        ],
        [
         "13",
         "2022-01-01 16:59:29",
         "102.0",
         " 망원역 1번출구 앞",
         "마포구"
        ],
        [
         "14",
         "2022-01-01 17:30:08",
         "102.0",
         " 망원역 1번출구 앞",
         "마포구"
        ],
        [
         "15",
         "2022-01-01 17:46:55",
         "102.0",
         " 망원역 1번출구 앞",
         "마포구"
        ],
        [
         "16",
         "2022-01-01 17:36:37",
         "102.0",
         " 망원역 1번출구 앞",
         "마포구"
        ],
        [
         "17",
         "2022-01-01 17:38:09",
         "102.0",
         " 망원역 1번출구 앞",
         "마포구"
        ],
        [
         "18",
         "2022-01-01 17:50:07",
         "102.0",
         " 망원역 1번출구 앞",
         "마포구"
        ],
        [
         "19",
         "2022-01-01 17:41:38",
         "102.0",
         " 망원역 1번출구 앞",
         "마포구"
        ],
        [
         "20",
         "2022-01-01 18:52:18",
         "102.0",
         " 망원역 1번출구 앞",
         "마포구"
        ],
        [
         "21",
         "2022-01-01 18:37:24",
         "102.0",
         " 망원역 1번출구 앞",
         "마포구"
        ],
        [
         "22",
         "2022-01-01 19:07:23",
         "102.0",
         " 망원역 1번출구 앞",
         "마포구"
        ],
        [
         "23",
         "2022-01-01 18:25:15",
         "102.0",
         " 망원역 1번출구 앞",
         "마포구"
        ],
        [
         "24",
         "2022-01-01 19:09:36",
         "102.0",
         " 망원역 1번출구 앞",
         "마포구"
        ],
        [
         "25",
         "2022-01-01 19:00:14",
         "102.0",
         " 망원역 1번출구 앞",
         "마포구"
        ],
        [
         "26",
         "2022-01-01 19:22:16",
         "102.0",
         " 망원역 1번출구 앞",
         "마포구"
        ],
        [
         "27",
         "2022-01-01 18:33:00",
         "102.0",
         " 망원역 1번출구 앞",
         "마포구"
        ],
        [
         "28",
         "2022-01-01 18:28:45",
         "102.0",
         " 망원역 1번출구 앞",
         "마포구"
        ],
        [
         "29",
         "2022-01-01 20:36:31",
         "102.0",
         " 망원역 1번출구 앞",
         "마포구"
        ],
        [
         "30",
         "2022-01-01 20:16:02",
         "102.0",
         " 망원역 1번출구 앞",
         "마포구"
        ],
        [
         "31",
         "2022-01-01 20:47:22",
         "102.0",
         " 망원역 1번출구 앞",
         "마포구"
        ],
        [
         "32",
         "2022-01-01 21:28:32",
         "102.0",
         " 망원역 1번출구 앞",
         "마포구"
        ],
        [
         "33",
         "2022-01-01 21:38:04",
         "102.0",
         " 망원역 1번출구 앞",
         "마포구"
        ],
        [
         "34",
         "2022-01-01 21:50:39",
         "102.0",
         " 망원역 1번출구 앞",
         "마포구"
        ],
        [
         "35",
         "2022-01-01 21:51:12",
         "102.0",
         " 망원역 1번출구 앞",
         "마포구"
        ],
        [
         "36",
         "2022-01-01 23:19:33",
         "102.0",
         " 망원역 1번출구 앞",
         "마포구"
        ],
        [
         "37",
         "2022-01-01 23:55:58",
         "102.0",
         " 망원역 1번출구 앞",
         "마포구"
        ],
        [
         "38",
         "2022-01-01 23:59:05",
         "102.0",
         " 망원역 1번출구 앞",
         "마포구"
        ],
        [
         "39",
         "2022-01-02 00:27:46",
         "102.0",
         " 망원역 1번출구 앞",
         "마포구"
        ],
        [
         "40",
         "2022-01-02 10:27:38",
         "102.0",
         " 망원역 1번출구 앞",
         "마포구"
        ],
        [
         "41",
         "2022-01-02 10:41:36",
         "102.0",
         " 망원역 1번출구 앞",
         "마포구"
        ],
        [
         "42",
         "2022-01-02 10:19:29",
         "102.0",
         " 망원역 1번출구 앞",
         "마포구"
        ],
        [
         "43",
         "2022-01-02 11:43:38",
         "102.0",
         " 망원역 1번출구 앞",
         "마포구"
        ],
        [
         "44",
         "2022-01-02 11:18:29",
         "102.0",
         " 망원역 1번출구 앞",
         "마포구"
        ],
        [
         "45",
         "2022-01-02 13:02:41",
         "102.0",
         " 망원역 1번출구 앞",
         "마포구"
        ],
        [
         "46",
         "2022-01-02 13:58:28",
         "102.0",
         " 망원역 1번출구 앞",
         "마포구"
        ],
        [
         "47",
         "2022-01-02 14:08:09",
         "102.0",
         " 망원역 1번출구 앞",
         "마포구"
        ],
        [
         "48",
         "2022-01-02 14:33:04",
         "102.0",
         " 망원역 1번출구 앞",
         "마포구"
        ],
        [
         "49",
         "2022-01-02 15:14:44",
         "102.0",
         " 망원역 1번출구 앞",
         "마포구"
        ]
       ],
       "shape": {
        "columns": 4,
        "rows": 128779048
       }
      },
      "text/html": [
       "<div>\n",
       "<style scoped>\n",
       "    .dataframe tbody tr th:only-of-type {\n",
       "        vertical-align: middle;\n",
       "    }\n",
       "\n",
       "    .dataframe tbody tr th {\n",
       "        vertical-align: top;\n",
       "    }\n",
       "\n",
       "    .dataframe thead th {\n",
       "        text-align: right;\n",
       "    }\n",
       "</style>\n",
       "<table border=\"1\" class=\"dataframe\">\n",
       "  <thead>\n",
       "    <tr style=\"text-align: right;\">\n",
       "      <th></th>\n",
       "      <th>대여일시</th>\n",
       "      <th>대여소번호</th>\n",
       "      <th>대여소이름</th>\n",
       "      <th>행정구</th>\n",
       "    </tr>\n",
       "  </thead>\n",
       "  <tbody>\n",
       "    <tr>\n",
       "      <th>0</th>\n",
       "      <td>2022-01-01 09:02:01</td>\n",
       "      <td>102.0</td>\n",
       "      <td>망원역 1번출구 앞</td>\n",
       "      <td>마포구</td>\n",
       "    </tr>\n",
       "    <tr>\n",
       "      <th>1</th>\n",
       "      <td>2022-01-01 09:42:06</td>\n",
       "      <td>102.0</td>\n",
       "      <td>망원역 1번출구 앞</td>\n",
       "      <td>마포구</td>\n",
       "    </tr>\n",
       "    <tr>\n",
       "      <th>2</th>\n",
       "      <td>2022-01-01 10:05:30</td>\n",
       "      <td>102.0</td>\n",
       "      <td>망원역 1번출구 앞</td>\n",
       "      <td>마포구</td>\n",
       "    </tr>\n",
       "    <tr>\n",
       "      <th>3</th>\n",
       "      <td>2022-01-01 11:14:51</td>\n",
       "      <td>102.0</td>\n",
       "      <td>망원역 1번출구 앞</td>\n",
       "      <td>마포구</td>\n",
       "    </tr>\n",
       "    <tr>\n",
       "      <th>4</th>\n",
       "      <td>2022-01-01 12:22:38</td>\n",
       "      <td>102.0</td>\n",
       "      <td>망원역 1번출구 앞</td>\n",
       "      <td>마포구</td>\n",
       "    </tr>\n",
       "    <tr>\n",
       "      <th>...</th>\n",
       "      <td>...</td>\n",
       "      <td>...</td>\n",
       "      <td>...</td>\n",
       "      <td>...</td>\n",
       "    </tr>\n",
       "    <tr>\n",
       "      <th>132342110</th>\n",
       "      <td>2024-12-31 23:14:10</td>\n",
       "      <td>4032.0</td>\n",
       "      <td>불암주유소 앞</td>\n",
       "      <td>노원구</td>\n",
       "    </tr>\n",
       "    <tr>\n",
       "      <th>132342111</th>\n",
       "      <td>2024-12-31 21:45:25</td>\n",
       "      <td>3759.0</td>\n",
       "      <td>이대서울병원</td>\n",
       "      <td>강서구</td>\n",
       "    </tr>\n",
       "    <tr>\n",
       "      <th>132342112</th>\n",
       "      <td>2024-12-31 23:46:21</td>\n",
       "      <td>4629.0</td>\n",
       "      <td>한강초교보도육교 앞</td>\n",
       "      <td>용산구</td>\n",
       "    </tr>\n",
       "    <tr>\n",
       "      <th>132342113</th>\n",
       "      <td>2024-12-31 23:46:26</td>\n",
       "      <td>4629.0</td>\n",
       "      <td>한강초교보도육교 앞</td>\n",
       "      <td>용산구</td>\n",
       "    </tr>\n",
       "    <tr>\n",
       "      <th>132342114</th>\n",
       "      <td>2024-12-31 23:19:31</td>\n",
       "      <td>2732.0</td>\n",
       "      <td>마곡수명산 1-2단지</td>\n",
       "      <td>강서구</td>\n",
       "    </tr>\n",
       "  </tbody>\n",
       "</table>\n",
       "<p>128779048 rows × 4 columns</p>\n",
       "</div>"
      ],
      "text/plain": [
       "                          대여일시   대여소번호        대여소이름  행정구\n",
       "0          2022-01-01 09:02:01   102.0   망원역 1번출구 앞  마포구\n",
       "1          2022-01-01 09:42:06   102.0   망원역 1번출구 앞  마포구\n",
       "2          2022-01-01 10:05:30   102.0   망원역 1번출구 앞  마포구\n",
       "3          2022-01-01 11:14:51   102.0   망원역 1번출구 앞  마포구\n",
       "4          2022-01-01 12:22:38   102.0   망원역 1번출구 앞  마포구\n",
       "...                        ...     ...          ...  ...\n",
       "132342110  2024-12-31 23:14:10  4032.0      불암주유소 앞  노원구\n",
       "132342111  2024-12-31 21:45:25  3759.0       이대서울병원  강서구\n",
       "132342112  2024-12-31 23:46:21  4629.0   한강초교보도육교 앞  용산구\n",
       "132342113  2024-12-31 23:46:26  4629.0   한강초교보도육교 앞  용산구\n",
       "132342114  2024-12-31 23:19:31  2732.0  마곡수명산 1-2단지  강서구\n",
       "\n",
       "[128779048 rows x 4 columns]"
      ]
     },
     "execution_count": 46,
     "metadata": {},
     "output_type": "execute_result"
    }
   ],
   "source": [
    "df_final"
   ]
  },
  {
   "cell_type": "code",
   "execution_count": 47,
   "id": "864fed9b",
   "metadata": {},
   "outputs": [],
   "source": [
    "df_final.to_csv('따릉이3개년이용내역.csv')"
   ]
  },
  {
   "cell_type": "code",
   "execution_count": 50,
   "id": "3701cc84",
   "metadata": {},
   "outputs": [],
   "source": [
    "# '대여일시' 컬럼을 datetime 형식으로 변환\n",
    "df_final['대여일시'] = pd.to_datetime(df_final['대여일시'], errors='coerce')\n",
    "\n",
    "# 각각 연도, 월, 일, 시(hour) 컬럼으로 분해\n",
    "df_final['연도'] = df_final['대여일시'].dt.year\n",
    "df_final['월'] = df_final['대여일시'].dt.month\n",
    "df_final['일'] = df_final['대여일시'].dt.day\n",
    "df_final['시간'] = df_final['대여일시'].dt.hour"
   ]
  },
  {
   "cell_type": "code",
   "execution_count": 52,
   "id": "58ad397b",
   "metadata": {},
   "outputs": [],
   "source": [
    "df_final.drop('대여일시',axis=1,inplace=True)"
   ]
  },
  {
   "cell_type": "code",
   "execution_count": 5,
   "id": "df5d0636",
   "metadata": {},
   "outputs": [],
   "source": [
    "# '대여일시' 컬럼을 datetime 형식으로 변환\n",
    "df_total['대여일시'] = pd.to_datetime(df_total['대여일시'], errors='coerce')\n",
    "\n",
    "# 각각 연도, 월, 일, 시(hour) 컬럼으로 분해\n",
    "df_total['연도'] = df_total['대여일시'].dt.year\n",
    "df_total['월'] = df_total['대여일시'].dt.month\n",
    "df_total['일'] = df_total['대여일시'].dt.day\n",
    "df_total['시간'] = df_total['대여일시'].dt.hour"
   ]
  },
  {
   "cell_type": "code",
   "execution_count": null,
   "id": "da2ba49f",
   "metadata": {},
   "outputs": [],
   "source": [
    "df_total.to_csv('따릉이3개년이용내역.csv')"
   ]
  },
  {
   "cell_type": "code",
   "execution_count": 7,
   "id": "788d093e",
   "metadata": {},
   "outputs": [],
   "source": [
    "df_total.drop('자전거번호',axis=1,inplace=True)"
   ]
  },
  {
   "cell_type": "code",
   "execution_count": 12,
   "id": "1f9c9a0f",
   "metadata": {},
   "outputs": [],
   "source": [
    "df_total['대여소번호'] = df_total['대여 대여소번호'].replace('\\\\N',0).astype(int)"
   ]
  },
  {
   "cell_type": "code",
   "execution_count": 13,
   "id": "4709b91f",
   "metadata": {},
   "outputs": [],
   "source": [
    "df_total = df_total[(df_total['대여소번호']>=102)&(df_total['대여소번호']<=6178)]"
   ]
  },
  {
   "cell_type": "code",
   "execution_count": 17,
   "id": "cb6029b1",
   "metadata": {},
   "outputs": [],
   "source": [
    "df_total.reset_index(drop=True,inplace= True)"
   ]
  },
  {
   "cell_type": "code",
   "execution_count": 21,
   "id": "40b0e5dc",
   "metadata": {},
   "outputs": [
    {
     "name": "stderr",
     "output_type": "stream",
     "text": [
      "C:\\Users\\wjdwh\\AppData\\Local\\Temp\\ipykernel_23256\\2062503806.py:1: SettingWithCopyWarning: \n",
      "A value is trying to be set on a copy of a slice from a DataFrame\n",
      "\n",
      "See the caveats in the documentation: https://pandas.pydata.org/pandas-docs/stable/user_guide/indexing.html#returning-a-view-versus-a-copy\n",
      "  df_total.drop(['대여일시','대여 대여소번호'],axis=1,inplace=True)\n"
     ]
    }
   ],
   "source": [
    "df_total.drop(['대여일시','대여 대여소번호'],axis=1,inplace=True)"
   ]
  },
  {
   "cell_type": "code",
   "execution_count": 22,
   "id": "f1ad67ec",
   "metadata": {},
   "outputs": [
    {
     "data": {
      "application/vnd.microsoft.datawrangler.viewer.v0+json": {
       "columns": [
        {
         "name": "index",
         "rawType": "int64",
         "type": "integer"
        },
        {
         "name": "연도",
         "rawType": "float64",
         "type": "float"
        },
        {
         "name": "월",
         "rawType": "float64",
         "type": "float"
        },
        {
         "name": "일",
         "rawType": "float64",
         "type": "float"
        },
        {
         "name": "시간",
         "rawType": "float64",
         "type": "float"
        },
        {
         "name": "대여소번호",
         "rawType": "int32",
         "type": "integer"
        }
       ],
       "ref": "0b6c4244-18a4-4b96-af21-6fd11f23e04e",
       "rows": [
        [
         "0",
         "2022.0",
         "1.0",
         "1.0",
         "9.0",
         "102"
        ],
        [
         "1",
         "2022.0",
         "1.0",
         "1.0",
         "9.0",
         "102"
        ],
        [
         "2",
         "2022.0",
         "1.0",
         "1.0",
         "10.0",
         "102"
        ],
        [
         "3",
         "2022.0",
         "1.0",
         "1.0",
         "11.0",
         "102"
        ],
        [
         "4",
         "2022.0",
         "1.0",
         "1.0",
         "12.0",
         "102"
        ],
        [
         "5",
         "2022.0",
         "1.0",
         "1.0",
         "12.0",
         "102"
        ],
        [
         "6",
         "2022.0",
         "1.0",
         "1.0",
         "12.0",
         "102"
        ],
        [
         "7",
         "2022.0",
         "1.0",
         "1.0",
         "12.0",
         "102"
        ],
        [
         "8",
         "2022.0",
         "1.0",
         "1.0",
         "12.0",
         "102"
        ],
        [
         "9",
         "2022.0",
         "1.0",
         "1.0",
         "13.0",
         "102"
        ],
        [
         "10",
         "2022.0",
         "1.0",
         "1.0",
         "14.0",
         "102"
        ],
        [
         "11",
         "2022.0",
         "1.0",
         "1.0",
         "14.0",
         "102"
        ],
        [
         "12",
         "2022.0",
         "1.0",
         "1.0",
         "15.0",
         "102"
        ],
        [
         "13",
         "2022.0",
         "1.0",
         "1.0",
         "16.0",
         "102"
        ],
        [
         "14",
         "2022.0",
         "1.0",
         "1.0",
         "17.0",
         "102"
        ],
        [
         "15",
         "2022.0",
         "1.0",
         "1.0",
         "17.0",
         "102"
        ],
        [
         "16",
         "2022.0",
         "1.0",
         "1.0",
         "17.0",
         "102"
        ],
        [
         "17",
         "2022.0",
         "1.0",
         "1.0",
         "17.0",
         "102"
        ],
        [
         "18",
         "2022.0",
         "1.0",
         "1.0",
         "17.0",
         "102"
        ],
        [
         "19",
         "2022.0",
         "1.0",
         "1.0",
         "17.0",
         "102"
        ],
        [
         "20",
         "2022.0",
         "1.0",
         "1.0",
         "18.0",
         "102"
        ],
        [
         "21",
         "2022.0",
         "1.0",
         "1.0",
         "18.0",
         "102"
        ],
        [
         "22",
         "2022.0",
         "1.0",
         "1.0",
         "19.0",
         "102"
        ],
        [
         "23",
         "2022.0",
         "1.0",
         "1.0",
         "18.0",
         "102"
        ],
        [
         "24",
         "2022.0",
         "1.0",
         "1.0",
         "19.0",
         "102"
        ],
        [
         "25",
         "2022.0",
         "1.0",
         "1.0",
         "19.0",
         "102"
        ],
        [
         "26",
         "2022.0",
         "1.0",
         "1.0",
         "19.0",
         "102"
        ],
        [
         "27",
         "2022.0",
         "1.0",
         "1.0",
         "18.0",
         "102"
        ],
        [
         "28",
         "2022.0",
         "1.0",
         "1.0",
         "18.0",
         "102"
        ],
        [
         "29",
         "2022.0",
         "1.0",
         "1.0",
         "20.0",
         "102"
        ],
        [
         "30",
         "2022.0",
         "1.0",
         "1.0",
         "20.0",
         "102"
        ],
        [
         "31",
         "2022.0",
         "1.0",
         "1.0",
         "20.0",
         "102"
        ],
        [
         "32",
         "2022.0",
         "1.0",
         "1.0",
         "21.0",
         "102"
        ],
        [
         "33",
         "2022.0",
         "1.0",
         "1.0",
         "21.0",
         "102"
        ],
        [
         "34",
         "2022.0",
         "1.0",
         "1.0",
         "21.0",
         "102"
        ],
        [
         "35",
         "2022.0",
         "1.0",
         "1.0",
         "21.0",
         "102"
        ],
        [
         "36",
         "2022.0",
         "1.0",
         "1.0",
         "23.0",
         "102"
        ],
        [
         "37",
         "2022.0",
         "1.0",
         "1.0",
         "23.0",
         "102"
        ],
        [
         "38",
         "2022.0",
         "1.0",
         "1.0",
         "23.0",
         "102"
        ],
        [
         "39",
         "2022.0",
         "1.0",
         "2.0",
         "0.0",
         "102"
        ],
        [
         "40",
         "2022.0",
         "1.0",
         "2.0",
         "10.0",
         "102"
        ],
        [
         "41",
         "2022.0",
         "1.0",
         "2.0",
         "10.0",
         "102"
        ],
        [
         "42",
         "2022.0",
         "1.0",
         "2.0",
         "10.0",
         "102"
        ],
        [
         "43",
         "2022.0",
         "1.0",
         "2.0",
         "11.0",
         "102"
        ],
        [
         "44",
         "2022.0",
         "1.0",
         "2.0",
         "11.0",
         "102"
        ],
        [
         "45",
         "2022.0",
         "1.0",
         "2.0",
         "13.0",
         "102"
        ],
        [
         "46",
         "2022.0",
         "1.0",
         "2.0",
         "13.0",
         "102"
        ],
        [
         "47",
         "2022.0",
         "1.0",
         "2.0",
         "14.0",
         "102"
        ],
        [
         "48",
         "2022.0",
         "1.0",
         "2.0",
         "14.0",
         "102"
        ],
        [
         "49",
         "2022.0",
         "1.0",
         "2.0",
         "15.0",
         "102"
        ]
       ],
       "shape": {
        "columns": 5,
        "rows": 132342115
       }
      },
      "text/html": [
       "<div>\n",
       "<style scoped>\n",
       "    .dataframe tbody tr th:only-of-type {\n",
       "        vertical-align: middle;\n",
       "    }\n",
       "\n",
       "    .dataframe tbody tr th {\n",
       "        vertical-align: top;\n",
       "    }\n",
       "\n",
       "    .dataframe thead th {\n",
       "        text-align: right;\n",
       "    }\n",
       "</style>\n",
       "<table border=\"1\" class=\"dataframe\">\n",
       "  <thead>\n",
       "    <tr style=\"text-align: right;\">\n",
       "      <th></th>\n",
       "      <th>연도</th>\n",
       "      <th>월</th>\n",
       "      <th>일</th>\n",
       "      <th>시간</th>\n",
       "      <th>대여소번호</th>\n",
       "    </tr>\n",
       "  </thead>\n",
       "  <tbody>\n",
       "    <tr>\n",
       "      <th>0</th>\n",
       "      <td>2022.0</td>\n",
       "      <td>1.0</td>\n",
       "      <td>1.0</td>\n",
       "      <td>9.0</td>\n",
       "      <td>102</td>\n",
       "    </tr>\n",
       "    <tr>\n",
       "      <th>1</th>\n",
       "      <td>2022.0</td>\n",
       "      <td>1.0</td>\n",
       "      <td>1.0</td>\n",
       "      <td>9.0</td>\n",
       "      <td>102</td>\n",
       "    </tr>\n",
       "    <tr>\n",
       "      <th>2</th>\n",
       "      <td>2022.0</td>\n",
       "      <td>1.0</td>\n",
       "      <td>1.0</td>\n",
       "      <td>10.0</td>\n",
       "      <td>102</td>\n",
       "    </tr>\n",
       "    <tr>\n",
       "      <th>3</th>\n",
       "      <td>2022.0</td>\n",
       "      <td>1.0</td>\n",
       "      <td>1.0</td>\n",
       "      <td>11.0</td>\n",
       "      <td>102</td>\n",
       "    </tr>\n",
       "    <tr>\n",
       "      <th>4</th>\n",
       "      <td>2022.0</td>\n",
       "      <td>1.0</td>\n",
       "      <td>1.0</td>\n",
       "      <td>12.0</td>\n",
       "      <td>102</td>\n",
       "    </tr>\n",
       "    <tr>\n",
       "      <th>...</th>\n",
       "      <td>...</td>\n",
       "      <td>...</td>\n",
       "      <td>...</td>\n",
       "      <td>...</td>\n",
       "      <td>...</td>\n",
       "    </tr>\n",
       "    <tr>\n",
       "      <th>132342110</th>\n",
       "      <td>2024.0</td>\n",
       "      <td>12.0</td>\n",
       "      <td>31.0</td>\n",
       "      <td>23.0</td>\n",
       "      <td>4032</td>\n",
       "    </tr>\n",
       "    <tr>\n",
       "      <th>132342111</th>\n",
       "      <td>2024.0</td>\n",
       "      <td>12.0</td>\n",
       "      <td>31.0</td>\n",
       "      <td>21.0</td>\n",
       "      <td>3759</td>\n",
       "    </tr>\n",
       "    <tr>\n",
       "      <th>132342112</th>\n",
       "      <td>2024.0</td>\n",
       "      <td>12.0</td>\n",
       "      <td>31.0</td>\n",
       "      <td>23.0</td>\n",
       "      <td>4629</td>\n",
       "    </tr>\n",
       "    <tr>\n",
       "      <th>132342113</th>\n",
       "      <td>2024.0</td>\n",
       "      <td>12.0</td>\n",
       "      <td>31.0</td>\n",
       "      <td>23.0</td>\n",
       "      <td>4629</td>\n",
       "    </tr>\n",
       "    <tr>\n",
       "      <th>132342114</th>\n",
       "      <td>2024.0</td>\n",
       "      <td>12.0</td>\n",
       "      <td>31.0</td>\n",
       "      <td>23.0</td>\n",
       "      <td>2732</td>\n",
       "    </tr>\n",
       "  </tbody>\n",
       "</table>\n",
       "<p>132342115 rows × 5 columns</p>\n",
       "</div>"
      ],
      "text/plain": [
       "               연도     월     일    시간  대여소번호\n",
       "0          2022.0   1.0   1.0   9.0    102\n",
       "1          2022.0   1.0   1.0   9.0    102\n",
       "2          2022.0   1.0   1.0  10.0    102\n",
       "3          2022.0   1.0   1.0  11.0    102\n",
       "4          2022.0   1.0   1.0  12.0    102\n",
       "...           ...   ...   ...   ...    ...\n",
       "132342110  2024.0  12.0  31.0  23.0   4032\n",
       "132342111  2024.0  12.0  31.0  21.0   3759\n",
       "132342112  2024.0  12.0  31.0  23.0   4629\n",
       "132342113  2024.0  12.0  31.0  23.0   4629\n",
       "132342114  2024.0  12.0  31.0  23.0   2732\n",
       "\n",
       "[132342115 rows x 5 columns]"
      ]
     },
     "execution_count": 22,
     "metadata": {},
     "output_type": "execute_result"
    }
   ],
   "source": [
    "df_total"
   ]
  },
  {
   "cell_type": "code",
   "execution_count": 23,
   "id": "11c44e46",
   "metadata": {},
   "outputs": [],
   "source": [
    "df_total.to_csv('따릉이3개년이용내역_연도월일시간대여소번호.csv')"
   ]
  },
  {
   "cell_type": "code",
   "execution_count": 20,
   "id": "db8352b9",
   "metadata": {},
   "outputs": [
    {
     "data": {
      "application/vnd.microsoft.datawrangler.viewer.v0+json": {
       "columns": [
        {
         "name": "index",
         "rawType": "int64",
         "type": "integer"
        },
        {
         "name": "Unnamed: 0",
         "rawType": "int64",
         "type": "integer"
        },
        {
         "name": "대여일시",
         "rawType": "object",
         "type": "string"
        },
        {
         "name": "대여 대여소번호",
         "rawType": "int64",
         "type": "integer"
        },
        {
         "name": "연도",
         "rawType": "float64",
         "type": "float"
        },
        {
         "name": "월",
         "rawType": "float64",
         "type": "float"
        },
        {
         "name": "일",
         "rawType": "float64",
         "type": "float"
        },
        {
         "name": "시간",
         "rawType": "float64",
         "type": "float"
        },
        {
         "name": "대여소번호",
         "rawType": "int64",
         "type": "integer"
        }
       ],
       "ref": "8bad98ac-3a7e-4db4-b9f2-c9fb64785e95",
       "rows": [
        [
         "0",
         "0",
         "2022-01-01 09:02:01",
         "102",
         "2022.0",
         "1.0",
         "1.0",
         "9.0",
         "102"
        ],
        [
         "1",
         "1",
         "2022-01-01 09:42:06",
         "102",
         "2022.0",
         "1.0",
         "1.0",
         "9.0",
         "102"
        ],
        [
         "2",
         "2",
         "2022-01-01 10:05:30",
         "102",
         "2022.0",
         "1.0",
         "1.0",
         "10.0",
         "102"
        ],
        [
         "3",
         "3",
         "2022-01-01 11:14:51",
         "102",
         "2022.0",
         "1.0",
         "1.0",
         "11.0",
         "102"
        ],
        [
         "4",
         "4",
         "2022-01-01 12:22:38",
         "102",
         "2022.0",
         "1.0",
         "1.0",
         "12.0",
         "102"
        ],
        [
         "5",
         "5",
         "2022-01-01 12:22:34",
         "102",
         "2022.0",
         "1.0",
         "1.0",
         "12.0",
         "102"
        ],
        [
         "6",
         "6",
         "2022-01-01 12:12:23",
         "102",
         "2022.0",
         "1.0",
         "1.0",
         "12.0",
         "102"
        ],
        [
         "7",
         "7",
         "2022-01-01 12:53:53",
         "102",
         "2022.0",
         "1.0",
         "1.0",
         "12.0",
         "102"
        ],
        [
         "8",
         "8",
         "2022-01-01 12:43:55",
         "102",
         "2022.0",
         "1.0",
         "1.0",
         "12.0",
         "102"
        ],
        [
         "9",
         "9",
         "2022-01-01 13:34:09",
         "102",
         "2022.0",
         "1.0",
         "1.0",
         "13.0",
         "102"
        ],
        [
         "10",
         "10",
         "2022-01-01 14:43:32",
         "102",
         "2022.0",
         "1.0",
         "1.0",
         "14.0",
         "102"
        ],
        [
         "11",
         "11",
         "2022-01-01 14:12:25",
         "102",
         "2022.0",
         "1.0",
         "1.0",
         "14.0",
         "102"
        ],
        [
         "12",
         "12",
         "2022-01-01 15:28:06",
         "102",
         "2022.0",
         "1.0",
         "1.0",
         "15.0",
         "102"
        ],
        [
         "13",
         "13",
         "2022-01-01 16:59:29",
         "102",
         "2022.0",
         "1.0",
         "1.0",
         "16.0",
         "102"
        ],
        [
         "14",
         "14",
         "2022-01-01 17:30:08",
         "102",
         "2022.0",
         "1.0",
         "1.0",
         "17.0",
         "102"
        ],
        [
         "15",
         "15",
         "2022-01-01 17:46:55",
         "102",
         "2022.0",
         "1.0",
         "1.0",
         "17.0",
         "102"
        ],
        [
         "16",
         "16",
         "2022-01-01 17:36:37",
         "102",
         "2022.0",
         "1.0",
         "1.0",
         "17.0",
         "102"
        ],
        [
         "17",
         "17",
         "2022-01-01 17:38:09",
         "102",
         "2022.0",
         "1.0",
         "1.0",
         "17.0",
         "102"
        ],
        [
         "18",
         "18",
         "2022-01-01 17:50:07",
         "102",
         "2022.0",
         "1.0",
         "1.0",
         "17.0",
         "102"
        ],
        [
         "19",
         "19",
         "2022-01-01 17:41:38",
         "102",
         "2022.0",
         "1.0",
         "1.0",
         "17.0",
         "102"
        ],
        [
         "20",
         "20",
         "2022-01-01 18:52:18",
         "102",
         "2022.0",
         "1.0",
         "1.0",
         "18.0",
         "102"
        ],
        [
         "21",
         "21",
         "2022-01-01 18:37:24",
         "102",
         "2022.0",
         "1.0",
         "1.0",
         "18.0",
         "102"
        ],
        [
         "22",
         "22",
         "2022-01-01 19:07:23",
         "102",
         "2022.0",
         "1.0",
         "1.0",
         "19.0",
         "102"
        ],
        [
         "23",
         "23",
         "2022-01-01 18:25:15",
         "102",
         "2022.0",
         "1.0",
         "1.0",
         "18.0",
         "102"
        ],
        [
         "24",
         "24",
         "2022-01-01 19:09:36",
         "102",
         "2022.0",
         "1.0",
         "1.0",
         "19.0",
         "102"
        ],
        [
         "25",
         "25",
         "2022-01-01 19:00:14",
         "102",
         "2022.0",
         "1.0",
         "1.0",
         "19.0",
         "102"
        ],
        [
         "26",
         "26",
         "2022-01-01 19:22:16",
         "102",
         "2022.0",
         "1.0",
         "1.0",
         "19.0",
         "102"
        ],
        [
         "27",
         "27",
         "2022-01-01 18:33:00",
         "102",
         "2022.0",
         "1.0",
         "1.0",
         "18.0",
         "102"
        ],
        [
         "28",
         "28",
         "2022-01-01 18:28:45",
         "102",
         "2022.0",
         "1.0",
         "1.0",
         "18.0",
         "102"
        ],
        [
         "29",
         "29",
         "2022-01-01 20:36:31",
         "102",
         "2022.0",
         "1.0",
         "1.0",
         "20.0",
         "102"
        ],
        [
         "30",
         "30",
         "2022-01-01 20:16:02",
         "102",
         "2022.0",
         "1.0",
         "1.0",
         "20.0",
         "102"
        ],
        [
         "31",
         "31",
         "2022-01-01 20:47:22",
         "102",
         "2022.0",
         "1.0",
         "1.0",
         "20.0",
         "102"
        ],
        [
         "32",
         "32",
         "2022-01-01 21:28:32",
         "102",
         "2022.0",
         "1.0",
         "1.0",
         "21.0",
         "102"
        ],
        [
         "33",
         "33",
         "2022-01-01 21:38:04",
         "102",
         "2022.0",
         "1.0",
         "1.0",
         "21.0",
         "102"
        ],
        [
         "34",
         "34",
         "2022-01-01 21:50:39",
         "102",
         "2022.0",
         "1.0",
         "1.0",
         "21.0",
         "102"
        ],
        [
         "35",
         "35",
         "2022-01-01 21:51:12",
         "102",
         "2022.0",
         "1.0",
         "1.0",
         "21.0",
         "102"
        ],
        [
         "36",
         "36",
         "2022-01-01 23:19:33",
         "102",
         "2022.0",
         "1.0",
         "1.0",
         "23.0",
         "102"
        ],
        [
         "37",
         "37",
         "2022-01-01 23:55:58",
         "102",
         "2022.0",
         "1.0",
         "1.0",
         "23.0",
         "102"
        ],
        [
         "38",
         "38",
         "2022-01-01 23:59:05",
         "102",
         "2022.0",
         "1.0",
         "1.0",
         "23.0",
         "102"
        ],
        [
         "39",
         "39",
         "2022-01-02 00:27:46",
         "102",
         "2022.0",
         "1.0",
         "2.0",
         "0.0",
         "102"
        ],
        [
         "40",
         "40",
         "2022-01-02 10:27:38",
         "102",
         "2022.0",
         "1.0",
         "2.0",
         "10.0",
         "102"
        ],
        [
         "41",
         "41",
         "2022-01-02 10:41:36",
         "102",
         "2022.0",
         "1.0",
         "2.0",
         "10.0",
         "102"
        ],
        [
         "42",
         "42",
         "2022-01-02 10:19:29",
         "102",
         "2022.0",
         "1.0",
         "2.0",
         "10.0",
         "102"
        ],
        [
         "43",
         "43",
         "2022-01-02 11:43:38",
         "102",
         "2022.0",
         "1.0",
         "2.0",
         "11.0",
         "102"
        ],
        [
         "44",
         "44",
         "2022-01-02 11:18:29",
         "102",
         "2022.0",
         "1.0",
         "2.0",
         "11.0",
         "102"
        ],
        [
         "45",
         "45",
         "2022-01-02 13:02:41",
         "102",
         "2022.0",
         "1.0",
         "2.0",
         "13.0",
         "102"
        ],
        [
         "46",
         "46",
         "2022-01-02 13:58:28",
         "102",
         "2022.0",
         "1.0",
         "2.0",
         "13.0",
         "102"
        ],
        [
         "47",
         "47",
         "2022-01-02 14:08:09",
         "102",
         "2022.0",
         "1.0",
         "2.0",
         "14.0",
         "102"
        ],
        [
         "48",
         "48",
         "2022-01-02 14:33:04",
         "102",
         "2022.0",
         "1.0",
         "2.0",
         "14.0",
         "102"
        ],
        [
         "49",
         "49",
         "2022-01-02 15:14:44",
         "102",
         "2022.0",
         "1.0",
         "2.0",
         "15.0",
         "102"
        ]
       ],
       "shape": {
        "columns": 8,
        "rows": 132342115
       }
      },
      "text/html": [
       "<div>\n",
       "<style scoped>\n",
       "    .dataframe tbody tr th:only-of-type {\n",
       "        vertical-align: middle;\n",
       "    }\n",
       "\n",
       "    .dataframe tbody tr th {\n",
       "        vertical-align: top;\n",
       "    }\n",
       "\n",
       "    .dataframe thead th {\n",
       "        text-align: right;\n",
       "    }\n",
       "</style>\n",
       "<table border=\"1\" class=\"dataframe\">\n",
       "  <thead>\n",
       "    <tr style=\"text-align: right;\">\n",
       "      <th></th>\n",
       "      <th>Unnamed: 0</th>\n",
       "      <th>대여일시</th>\n",
       "      <th>대여 대여소번호</th>\n",
       "      <th>연도</th>\n",
       "      <th>월</th>\n",
       "      <th>일</th>\n",
       "      <th>시간</th>\n",
       "      <th>대여소번호</th>\n",
       "    </tr>\n",
       "  </thead>\n",
       "  <tbody>\n",
       "    <tr>\n",
       "      <th>0</th>\n",
       "      <td>0</td>\n",
       "      <td>2022-01-01 09:02:01</td>\n",
       "      <td>102</td>\n",
       "      <td>2022.0</td>\n",
       "      <td>1.0</td>\n",
       "      <td>1.0</td>\n",
       "      <td>9.0</td>\n",
       "      <td>102</td>\n",
       "    </tr>\n",
       "    <tr>\n",
       "      <th>1</th>\n",
       "      <td>1</td>\n",
       "      <td>2022-01-01 09:42:06</td>\n",
       "      <td>102</td>\n",
       "      <td>2022.0</td>\n",
       "      <td>1.0</td>\n",
       "      <td>1.0</td>\n",
       "      <td>9.0</td>\n",
       "      <td>102</td>\n",
       "    </tr>\n",
       "    <tr>\n",
       "      <th>2</th>\n",
       "      <td>2</td>\n",
       "      <td>2022-01-01 10:05:30</td>\n",
       "      <td>102</td>\n",
       "      <td>2022.0</td>\n",
       "      <td>1.0</td>\n",
       "      <td>1.0</td>\n",
       "      <td>10.0</td>\n",
       "      <td>102</td>\n",
       "    </tr>\n",
       "    <tr>\n",
       "      <th>3</th>\n",
       "      <td>3</td>\n",
       "      <td>2022-01-01 11:14:51</td>\n",
       "      <td>102</td>\n",
       "      <td>2022.0</td>\n",
       "      <td>1.0</td>\n",
       "      <td>1.0</td>\n",
       "      <td>11.0</td>\n",
       "      <td>102</td>\n",
       "    </tr>\n",
       "    <tr>\n",
       "      <th>4</th>\n",
       "      <td>4</td>\n",
       "      <td>2022-01-01 12:22:38</td>\n",
       "      <td>102</td>\n",
       "      <td>2022.0</td>\n",
       "      <td>1.0</td>\n",
       "      <td>1.0</td>\n",
       "      <td>12.0</td>\n",
       "      <td>102</td>\n",
       "    </tr>\n",
       "    <tr>\n",
       "      <th>...</th>\n",
       "      <td>...</td>\n",
       "      <td>...</td>\n",
       "      <td>...</td>\n",
       "      <td>...</td>\n",
       "      <td>...</td>\n",
       "      <td>...</td>\n",
       "      <td>...</td>\n",
       "      <td>...</td>\n",
       "    </tr>\n",
       "    <tr>\n",
       "      <th>132342110</th>\n",
       "      <td>132342110</td>\n",
       "      <td>2024-12-31 23:14:10</td>\n",
       "      <td>4032</td>\n",
       "      <td>2024.0</td>\n",
       "      <td>12.0</td>\n",
       "      <td>31.0</td>\n",
       "      <td>23.0</td>\n",
       "      <td>4032</td>\n",
       "    </tr>\n",
       "    <tr>\n",
       "      <th>132342111</th>\n",
       "      <td>132342111</td>\n",
       "      <td>2024-12-31 21:45:25</td>\n",
       "      <td>3759</td>\n",
       "      <td>2024.0</td>\n",
       "      <td>12.0</td>\n",
       "      <td>31.0</td>\n",
       "      <td>21.0</td>\n",
       "      <td>3759</td>\n",
       "    </tr>\n",
       "    <tr>\n",
       "      <th>132342112</th>\n",
       "      <td>132342112</td>\n",
       "      <td>2024-12-31 23:46:21</td>\n",
       "      <td>4629</td>\n",
       "      <td>2024.0</td>\n",
       "      <td>12.0</td>\n",
       "      <td>31.0</td>\n",
       "      <td>23.0</td>\n",
       "      <td>4629</td>\n",
       "    </tr>\n",
       "    <tr>\n",
       "      <th>132342113</th>\n",
       "      <td>132342113</td>\n",
       "      <td>2024-12-31 23:46:26</td>\n",
       "      <td>4629</td>\n",
       "      <td>2024.0</td>\n",
       "      <td>12.0</td>\n",
       "      <td>31.0</td>\n",
       "      <td>23.0</td>\n",
       "      <td>4629</td>\n",
       "    </tr>\n",
       "    <tr>\n",
       "      <th>132342114</th>\n",
       "      <td>132342114</td>\n",
       "      <td>2024-12-31 23:19:31</td>\n",
       "      <td>2732</td>\n",
       "      <td>2024.0</td>\n",
       "      <td>12.0</td>\n",
       "      <td>31.0</td>\n",
       "      <td>23.0</td>\n",
       "      <td>2732</td>\n",
       "    </tr>\n",
       "  </tbody>\n",
       "</table>\n",
       "<p>132342115 rows × 8 columns</p>\n",
       "</div>"
      ],
      "text/plain": [
       "           Unnamed: 0                 대여일시  대여 대여소번호      연도     월     일  \\\n",
       "0                   0  2022-01-01 09:02:01       102  2022.0   1.0   1.0   \n",
       "1                   1  2022-01-01 09:42:06       102  2022.0   1.0   1.0   \n",
       "2                   2  2022-01-01 10:05:30       102  2022.0   1.0   1.0   \n",
       "3                   3  2022-01-01 11:14:51       102  2022.0   1.0   1.0   \n",
       "4                   4  2022-01-01 12:22:38       102  2022.0   1.0   1.0   \n",
       "...               ...                  ...       ...     ...   ...   ...   \n",
       "132342110   132342110  2024-12-31 23:14:10      4032  2024.0  12.0  31.0   \n",
       "132342111   132342111  2024-12-31 21:45:25      3759  2024.0  12.0  31.0   \n",
       "132342112   132342112  2024-12-31 23:46:21      4629  2024.0  12.0  31.0   \n",
       "132342113   132342113  2024-12-31 23:46:26      4629  2024.0  12.0  31.0   \n",
       "132342114   132342114  2024-12-31 23:19:31      2732  2024.0  12.0  31.0   \n",
       "\n",
       "             시간  대여소번호  \n",
       "0           9.0    102  \n",
       "1           9.0    102  \n",
       "2          10.0    102  \n",
       "3          11.0    102  \n",
       "4          12.0    102  \n",
       "...         ...    ...  \n",
       "132342110  23.0   4032  \n",
       "132342111  21.0   3759  \n",
       "132342112  23.0   4629  \n",
       "132342113  23.0   4629  \n",
       "132342114  23.0   2732  \n",
       "\n",
       "[132342115 rows x 8 columns]"
      ]
     },
     "execution_count": 20,
     "metadata": {},
     "output_type": "execute_result"
    }
   ],
   "source": []
  },
  {
   "cell_type": "code",
   "execution_count": 2,
   "id": "2ea7413e",
   "metadata": {},
   "outputs": [
    {
     "data": {
      "text/html": [
       "<div>\n",
       "<style scoped>\n",
       "    .dataframe tbody tr th:only-of-type {\n",
       "        vertical-align: middle;\n",
       "    }\n",
       "\n",
       "    .dataframe tbody tr th {\n",
       "        vertical-align: top;\n",
       "    }\n",
       "\n",
       "    .dataframe thead th {\n",
       "        text-align: right;\n",
       "    }\n",
       "</style>\n",
       "<table border=\"1\" class=\"dataframe\">\n",
       "  <thead>\n",
       "    <tr style=\"text-align: right;\">\n",
       "      <th></th>\n",
       "      <th>Unnamed: 0</th>\n",
       "      <th>연도</th>\n",
       "      <th>월</th>\n",
       "      <th>일</th>\n",
       "      <th>시간</th>\n",
       "      <th>대여소번호</th>\n",
       "    </tr>\n",
       "  </thead>\n",
       "  <tbody>\n",
       "    <tr>\n",
       "      <th>0</th>\n",
       "      <td>0</td>\n",
       "      <td>2022.0</td>\n",
       "      <td>1.0</td>\n",
       "      <td>1.0</td>\n",
       "      <td>9.0</td>\n",
       "      <td>102</td>\n",
       "    </tr>\n",
       "    <tr>\n",
       "      <th>1</th>\n",
       "      <td>1</td>\n",
       "      <td>2022.0</td>\n",
       "      <td>1.0</td>\n",
       "      <td>1.0</td>\n",
       "      <td>9.0</td>\n",
       "      <td>102</td>\n",
       "    </tr>\n",
       "    <tr>\n",
       "      <th>2</th>\n",
       "      <td>2</td>\n",
       "      <td>2022.0</td>\n",
       "      <td>1.0</td>\n",
       "      <td>1.0</td>\n",
       "      <td>10.0</td>\n",
       "      <td>102</td>\n",
       "    </tr>\n",
       "    <tr>\n",
       "      <th>3</th>\n",
       "      <td>3</td>\n",
       "      <td>2022.0</td>\n",
       "      <td>1.0</td>\n",
       "      <td>1.0</td>\n",
       "      <td>11.0</td>\n",
       "      <td>102</td>\n",
       "    </tr>\n",
       "    <tr>\n",
       "      <th>4</th>\n",
       "      <td>4</td>\n",
       "      <td>2022.0</td>\n",
       "      <td>1.0</td>\n",
       "      <td>1.0</td>\n",
       "      <td>12.0</td>\n",
       "      <td>102</td>\n",
       "    </tr>\n",
       "  </tbody>\n",
       "</table>\n",
       "</div>"
      ],
      "text/plain": [
       "   Unnamed: 0      연도    월    일    시간  대여소번호\n",
       "0           0  2022.0  1.0  1.0   9.0    102\n",
       "1           1  2022.0  1.0  1.0   9.0    102\n",
       "2           2  2022.0  1.0  1.0  10.0    102\n",
       "3           3  2022.0  1.0  1.0  11.0    102\n",
       "4           4  2022.0  1.0  1.0  12.0    102"
      ]
     },
     "execution_count": 2,
     "metadata": {},
     "output_type": "execute_result"
    }
   ],
   "source": [
    "import pandas as pd\n",
    "df = pd.read_csv('data/따릉이3개년이용내역_연도월일시간대여소번호.csv')"
   ]
  },
  {
   "cell_type": "code",
   "execution_count": 4,
   "id": "21ea0552",
   "metadata": {},
   "outputs": [
    {
     "data": {
      "text/plain": [
       "(132342115, 6)"
      ]
     },
     "execution_count": 4,
     "metadata": {},
     "output_type": "execute_result"
    }
   ],
   "source": [
    "df.shape"
   ]
  },
  {
   "cell_type": "code",
   "execution_count": 7,
   "id": "274776ec",
   "metadata": {},
   "outputs": [
    {
     "data": {
      "text/plain": [
       "(41594549, 6)"
      ]
     },
     "execution_count": 7,
     "metadata": {},
     "output_type": "execute_result"
    }
   ],
   "source": [
    "# df_2022 = df[df['연도']==2022.0]\n",
    "# df_2022.to_csv('따릉이22년도.csv',index=False)\n",
    "df_2022.shape"
   ]
  },
  {
   "cell_type": "code",
   "execution_count": 8,
   "id": "60d1f88f",
   "metadata": {},
   "outputs": [],
   "source": [
    "# df_2023 = df[df['연도']==2023.0]\n",
    "df_2023.to_csv('따릉이23년도.csv',index=False)\n",
    "# df_2023.shape"
   ]
  },
  {
   "cell_type": "code",
   "execution_count": 9,
   "id": "8c12c0fb",
   "metadata": {},
   "outputs": [],
   "source": [
    "df_2024 = df[df['연도']==2024.0]\n",
    "df_2024.to_csv('따릉이24년도.csv',index=False)"
   ]
  },
  {
   "cell_type": "code",
   "execution_count": null,
   "id": "00e970d6",
   "metadata": {},
   "outputs": [],
   "source": [
    "import pandas as pd\n",
    "test = pd.read_csv('따릉이22년도.csv')\n",
    "test.drop('Unnamed: 0',axis=1,inplace = True)\n",
    "data_2022 = test.groupby(['월','일'],as_index =False)['대여소번호'].value_counts()"
   ]
  },
  {
   "cell_type": "code",
   "execution_count": null,
   "id": "6275d767",
   "metadata": {},
   "outputs": [],
   "source": [
    "data_2022 = test.groupby(['월','일'],as_index =False)['대여소번호'].value_counts()"
   ]
  },
  {
   "cell_type": "code",
   "execution_count": 47,
   "id": "15514c5c",
   "metadata": {},
   "outputs": [],
   "source": [
    "data_2022.to_csv('model_1/2022년_일별_대여소별_대여량.csv')"
   ]
  },
  {
   "cell_type": "code",
   "execution_count": 48,
   "id": "49264c69",
   "metadata": {},
   "outputs": [],
   "source": [
    "import pandas as pd\n",
    "test = pd.read_csv('따릉이23년도.csv')\n",
    "test.drop('Unnamed: 0',axis=1,inplace = True)\n",
    "data_2023 = test.groupby(['월','일'],as_index =False)['대여소번호'].value_counts()\n",
    "data_2022.to_csv('model_1/2023년_일별_대여소별_대여량.csv')"
   ]
  },
  {
   "cell_type": "code",
   "execution_count": 49,
   "id": "fdaf5655",
   "metadata": {},
   "outputs": [],
   "source": [
    "import pandas as pd\n",
    "test = pd.read_csv('따릉이24년도.csv')\n",
    "test.drop('Unnamed: 0',axis=1,inplace = True)\n",
    "data_2023 = test.groupby(['월','일'],as_index =False)['대여소번호'].value_counts()\n",
    "data_2022.to_csv('model_1/2024년_일별_대여소별_대여량.csv')"
   ]
  },
  {
   "cell_type": "code",
   "execution_count": 16,
   "id": "4eb96b08",
   "metadata": {
    "collapsed": true
   },
   "outputs": [
    {
     "data": {
      "text/html": [
       "<div>\n",
       "<style scoped>\n",
       "    .dataframe tbody tr th:only-of-type {\n",
       "        vertical-align: middle;\n",
       "    }\n",
       "\n",
       "    .dataframe tbody tr th {\n",
       "        vertical-align: top;\n",
       "    }\n",
       "\n",
       "    .dataframe thead th {\n",
       "        text-align: right;\n",
       "    }\n",
       "</style>\n",
       "<table border=\"1\" class=\"dataframe\">\n",
       "  <thead>\n",
       "    <tr style=\"text-align: right;\">\n",
       "      <th></th>\n",
       "      <th>Unnamed: 0</th>\n",
       "      <th>연도</th>\n",
       "      <th>월</th>\n",
       "      <th>일</th>\n",
       "      <th>시간</th>\n",
       "      <th>대여소번호</th>\n",
       "    </tr>\n",
       "  </thead>\n",
       "  <tbody>\n",
       "    <tr>\n",
       "      <th>41594549</th>\n",
       "      <td>41594549</td>\n",
       "      <td>2023.0</td>\n",
       "      <td>1.0</td>\n",
       "      <td>1.0</td>\n",
       "      <td>0.0</td>\n",
       "      <td>1554</td>\n",
       "    </tr>\n",
       "    <tr>\n",
       "      <th>41594550</th>\n",
       "      <td>41594550</td>\n",
       "      <td>2023.0</td>\n",
       "      <td>1.0</td>\n",
       "      <td>1.0</td>\n",
       "      <td>0.0</td>\n",
       "      <td>1653</td>\n",
       "    </tr>\n",
       "    <tr>\n",
       "      <th>41594551</th>\n",
       "      <td>41594551</td>\n",
       "      <td>2023.0</td>\n",
       "      <td>1.0</td>\n",
       "      <td>1.0</td>\n",
       "      <td>0.0</td>\n",
       "      <td>2601</td>\n",
       "    </tr>\n",
       "    <tr>\n",
       "      <th>41594552</th>\n",
       "      <td>41594552</td>\n",
       "      <td>2023.0</td>\n",
       "      <td>1.0</td>\n",
       "      <td>1.0</td>\n",
       "      <td>0.0</td>\n",
       "      <td>1080</td>\n",
       "    </tr>\n",
       "    <tr>\n",
       "      <th>41594553</th>\n",
       "      <td>41594553</td>\n",
       "      <td>2023.0</td>\n",
       "      <td>1.0</td>\n",
       "      <td>1.0</td>\n",
       "      <td>0.0</td>\n",
       "      <td>1351</td>\n",
       "    </tr>\n",
       "    <tr>\n",
       "      <th>...</th>\n",
       "      <td>...</td>\n",
       "      <td>...</td>\n",
       "      <td>...</td>\n",
       "      <td>...</td>\n",
       "      <td>...</td>\n",
       "      <td>...</td>\n",
       "    </tr>\n",
       "    <tr>\n",
       "      <th>87981593</th>\n",
       "      <td>87981593</td>\n",
       "      <td>2023.0</td>\n",
       "      <td>12.0</td>\n",
       "      <td>31.0</td>\n",
       "      <td>2.0</td>\n",
       "      <td>2539</td>\n",
       "    </tr>\n",
       "    <tr>\n",
       "      <th>87981594</th>\n",
       "      <td>87981594</td>\n",
       "      <td>2023.0</td>\n",
       "      <td>12.0</td>\n",
       "      <td>31.0</td>\n",
       "      <td>18.0</td>\n",
       "      <td>130</td>\n",
       "    </tr>\n",
       "    <tr>\n",
       "      <th>87981595</th>\n",
       "      <td>87981595</td>\n",
       "      <td>2023.0</td>\n",
       "      <td>12.0</td>\n",
       "      <td>31.0</td>\n",
       "      <td>15.0</td>\n",
       "      <td>5768</td>\n",
       "    </tr>\n",
       "    <tr>\n",
       "      <th>87981596</th>\n",
       "      <td>87981596</td>\n",
       "      <td>2023.0</td>\n",
       "      <td>12.0</td>\n",
       "      <td>31.0</td>\n",
       "      <td>16.0</td>\n",
       "      <td>451</td>\n",
       "    </tr>\n",
       "    <tr>\n",
       "      <th>87981597</th>\n",
       "      <td>87981597</td>\n",
       "      <td>2023.0</td>\n",
       "      <td>12.0</td>\n",
       "      <td>31.0</td>\n",
       "      <td>21.0</td>\n",
       "      <td>2704</td>\n",
       "    </tr>\n",
       "  </tbody>\n",
       "</table>\n",
       "<p>46387048 rows × 6 columns</p>\n",
       "</div>"
      ],
      "text/plain": [
       "          Unnamed: 0      연도     월     일    시간  대여소번호\n",
       "41594549    41594549  2023.0   1.0   1.0   0.0   1554\n",
       "41594550    41594550  2023.0   1.0   1.0   0.0   1653\n",
       "41594551    41594551  2023.0   1.0   1.0   0.0   2601\n",
       "41594552    41594552  2023.0   1.0   1.0   0.0   1080\n",
       "41594553    41594553  2023.0   1.0   1.0   0.0   1351\n",
       "...              ...     ...   ...   ...   ...    ...\n",
       "87981593    87981593  2023.0  12.0  31.0   2.0   2539\n",
       "87981594    87981594  2023.0  12.0  31.0  18.0    130\n",
       "87981595    87981595  2023.0  12.0  31.0  15.0   5768\n",
       "87981596    87981596  2023.0  12.0  31.0  16.0    451\n",
       "87981597    87981597  2023.0  12.0  31.0  21.0   2704\n",
       "\n",
       "[46387048 rows x 6 columns]"
      ]
     },
     "execution_count": 16,
     "metadata": {},
     "output_type": "execute_result"
    }
   ],
   "source": [
    "df_2023"
   ]
  },
  {
   "cell_type": "code",
   "execution_count": 17,
   "id": "c28e40aa",
   "metadata": {},
   "outputs": [
    {
     "name": "stderr",
     "output_type": "stream",
     "text": [
      "C:\\Users\\wjdwh\\AppData\\Local\\Temp\\ipykernel_25212\\3098695648.py:1: SettingWithCopyWarning: \n",
      "A value is trying to be set on a copy of a slice from a DataFrame\n",
      "\n",
      "See the caveats in the documentation: https://pandas.pydata.org/pandas-docs/stable/user_guide/indexing.html#returning-a-view-versus-a-copy\n",
      "  df_2023.drop('Unnamed: 0',axis=1,inplace = True)\n"
     ]
    }
   ],
   "source": [
    "df_2023.drop('Unnamed: 0',axis=1,inplace = True)\n",
    "df_23 = df_2023.groupby(['월','일'],as_index =False)['대여소번호'].value_counts()\n",
    "df_23.to_csv('model_1/2023년_일별_대여소별_대여량.csv')"
   ]
  },
  {
   "cell_type": "code",
   "execution_count": 19,
   "id": "ff8efed9",
   "metadata": {},
   "outputs": [
    {
     "name": "stderr",
     "output_type": "stream",
     "text": [
      "C:\\Users\\wjdwh\\AppData\\Local\\Temp\\ipykernel_25212\\619778793.py:1: SettingWithCopyWarning: \n",
      "A value is trying to be set on a copy of a slice from a DataFrame\n",
      "\n",
      "See the caveats in the documentation: https://pandas.pydata.org/pandas-docs/stable/user_guide/indexing.html#returning-a-view-versus-a-copy\n",
      "  df_2024.drop('Unnamed: 0',axis=1,inplace = True)\n"
     ]
    }
   ],
   "source": [
    "df_2024.drop('Unnamed: 0',axis=1,inplace = True)\n",
    "df_24 = df_2024.groupby(['월','일'],as_index =False)['대여소번호'].value_counts()\n",
    "df_24.to_csv('model_1/2024년_일별_대여소별_대여량.csv')"
   ]
  },
  {
   "cell_type": "code",
   "execution_count": null,
   "id": "1fe0ef8e",
   "metadata": {},
   "outputs": [],
   "source": []
  }
 ],
 "metadata": {
  "kernelspec": {
   "display_name": "Python 3 (ipykernel)",
   "language": "python",
   "name": "python3"
  },
  "language_info": {
   "codemirror_mode": {
    "name": "ipython",
    "version": 3
   },
   "file_extension": ".py",
   "mimetype": "text/x-python",
   "name": "python",
   "nbconvert_exporter": "python",
   "pygments_lexer": "ipython3",
   "version": "3.10.9"
  },
  "toc": {
   "base_numbering": 1,
   "nav_menu": {},
   "number_sections": true,
   "sideBar": true,
   "skip_h1_title": false,
   "title_cell": "Table of Contents",
   "title_sidebar": "Contents",
   "toc_cell": false,
   "toc_position": {
    "height": "calc(100% - 180px)",
    "left": "10px",
    "top": "150px",
    "width": "207.798px"
   },
   "toc_section_display": true,
   "toc_window_display": true
  }
 },
 "nbformat": 4,
 "nbformat_minor": 5
}
